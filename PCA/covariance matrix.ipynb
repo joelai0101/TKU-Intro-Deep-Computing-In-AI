{
 "cells": [
  {
   "cell_type": "code",
   "execution_count": 1,
   "id": "bce627e0",
   "metadata": {},
   "outputs": [
    {
     "data": {
      "text/html": [
       "<div>\n",
       "<style scoped>\n",
       "    .dataframe tbody tr th:only-of-type {\n",
       "        vertical-align: middle;\n",
       "    }\n",
       "\n",
       "    .dataframe tbody tr th {\n",
       "        vertical-align: top;\n",
       "    }\n",
       "\n",
       "    .dataframe thead th {\n",
       "        text-align: right;\n",
       "    }\n",
       "</style>\n",
       "<table border=\"1\" class=\"dataframe\">\n",
       "  <thead>\n",
       "    <tr style=\"text-align: right;\">\n",
       "      <th></th>\n",
       "      <th>x</th>\n",
       "      <th>y</th>\n",
       "      <th>z</th>\n",
       "    </tr>\n",
       "  </thead>\n",
       "  <tbody>\n",
       "    <tr>\n",
       "      <th>0</th>\n",
       "      <td>1.0</td>\n",
       "      <td>14.0</td>\n",
       "      <td>9.0</td>\n",
       "    </tr>\n",
       "    <tr>\n",
       "      <th>1</th>\n",
       "      <td>2.0</td>\n",
       "      <td>12.8</td>\n",
       "      <td>5.0</td>\n",
       "    </tr>\n",
       "    <tr>\n",
       "      <th>2</th>\n",
       "      <td>3.1</td>\n",
       "      <td>4.9</td>\n",
       "      <td>4.0</td>\n",
       "    </tr>\n",
       "    <tr>\n",
       "      <th>3</th>\n",
       "      <td>4.2</td>\n",
       "      <td>2.5</td>\n",
       "      <td>8.0</td>\n",
       "    </tr>\n",
       "    <tr>\n",
       "      <th>4</th>\n",
       "      <td>5.5</td>\n",
       "      <td>0.0</td>\n",
       "      <td>2.0</td>\n",
       "    </tr>\n",
       "    <tr>\n",
       "      <th>5</th>\n",
       "      <td>6.0</td>\n",
       "      <td>-2.2</td>\n",
       "      <td>10.0</td>\n",
       "    </tr>\n",
       "    <tr>\n",
       "      <th>6</th>\n",
       "      <td>7.2</td>\n",
       "      <td>-4.0</td>\n",
       "      <td>1.0</td>\n",
       "    </tr>\n",
       "    <tr>\n",
       "      <th>7</th>\n",
       "      <td>8.3</td>\n",
       "      <td>-6.3</td>\n",
       "      <td>6.0</td>\n",
       "    </tr>\n",
       "    <tr>\n",
       "      <th>8</th>\n",
       "      <td>9.2</td>\n",
       "      <td>-8.2</td>\n",
       "      <td>3.0</td>\n",
       "    </tr>\n",
       "    <tr>\n",
       "      <th>9</th>\n",
       "      <td>10.0</td>\n",
       "      <td>-10.1</td>\n",
       "      <td>7.0</td>\n",
       "    </tr>\n",
       "  </tbody>\n",
       "</table>\n",
       "</div>"
      ],
      "text/plain": [
       "      x     y     z\n",
       "0   1.0  14.0   9.0\n",
       "1   2.0  12.8   5.0\n",
       "2   3.1   4.9   4.0\n",
       "3   4.2   2.5   8.0\n",
       "4   5.5   0.0   2.0\n",
       "5   6.0  -2.2  10.0\n",
       "6   7.2  -4.0   1.0\n",
       "7   8.3  -6.3   6.0\n",
       "8   9.2  -8.2   3.0\n",
       "9  10.0 -10.1   7.0"
      ]
     },
     "execution_count": 1,
     "metadata": {},
     "output_type": "execute_result"
    }
   ],
   "source": [
    "# Import pandas library\n",
    "import pandas as pd\n",
    "\n",
    "data = [[1.0,   14.0,  9.0], \n",
    "        [2.0,   12.8,  5.0], \n",
    "        [3.1,    4.9,  4.0], \n",
    "        [4.2,    2.5,  8.0], \n",
    "        [5.5,    0.0,  2.0], \n",
    "        [6.0,   -2.2, 10.0], \n",
    "        [7.2,   -4.0,  1.0], \n",
    "        [8.3,   -6.3,  6.0], \n",
    "        [9.2,   -8.2,  3.0], \n",
    "        [10.0, -10.1,  7.0]\n",
    "       ]\n",
    "df = pd.DataFrame(data, columns = ['x', 'y', 'z'])\n",
    "\n",
    "df"
   ]
  },
  {
   "cell_type": "code",
   "execution_count": 2,
   "id": "de970f40",
   "metadata": {},
   "outputs": [
    {
     "data": {
      "text/plain": [
       "10"
      ]
     },
     "execution_count": 2,
     "metadata": {},
     "output_type": "execute_result"
    }
   ],
   "source": [
    "df.shape[0]"
   ]
  },
  {
   "cell_type": "code",
   "execution_count": 3,
   "id": "86c4fe58",
   "metadata": {},
   "outputs": [],
   "source": [
    "from mpl_toolkits import mplot3d"
   ]
  },
  {
   "cell_type": "code",
   "execution_count": 4,
   "id": "0f40fa48",
   "metadata": {},
   "outputs": [],
   "source": [
    "%matplotlib inline\n",
    "import numpy as np\n",
    "import matplotlib.pyplot as plt"
   ]
  },
  {
   "cell_type": "code",
   "execution_count": 5,
   "id": "05b97412",
   "metadata": {},
   "outputs": [
    {
     "data": {
      "text/plain": [
       "0     1.0\n",
       "1     2.0\n",
       "2     3.1\n",
       "3     4.2\n",
       "4     5.5\n",
       "5     6.0\n",
       "6     7.2\n",
       "7     8.3\n",
       "8     9.2\n",
       "9    10.0\n",
       "Name: x, dtype: float64"
      ]
     },
     "execution_count": 5,
     "metadata": {},
     "output_type": "execute_result"
    }
   ],
   "source": [
    "xdata = df.loc[:,'x']\n",
    "xdata"
   ]
  },
  {
   "cell_type": "code",
   "execution_count": 6,
   "id": "28c19637",
   "metadata": {},
   "outputs": [
    {
     "data": {
      "text/plain": [
       "0    14.0\n",
       "1    12.8\n",
       "2     4.9\n",
       "3     2.5\n",
       "4     0.0\n",
       "5    -2.2\n",
       "6    -4.0\n",
       "7    -6.3\n",
       "8    -8.2\n",
       "9   -10.1\n",
       "Name: y, dtype: float64"
      ]
     },
     "execution_count": 6,
     "metadata": {},
     "output_type": "execute_result"
    }
   ],
   "source": [
    "ydata = df.loc[:,'y']\n",
    "ydata"
   ]
  },
  {
   "cell_type": "code",
   "execution_count": 7,
   "id": "de939060",
   "metadata": {},
   "outputs": [
    {
     "data": {
      "text/plain": [
       "0     9.0\n",
       "1     5.0\n",
       "2     4.0\n",
       "3     8.0\n",
       "4     2.0\n",
       "5    10.0\n",
       "6     1.0\n",
       "7     6.0\n",
       "8     3.0\n",
       "9     7.0\n",
       "Name: z, dtype: float64"
      ]
     },
     "execution_count": 7,
     "metadata": {},
     "output_type": "execute_result"
    }
   ],
   "source": [
    "zdata = df.loc[:,'z']\n",
    "zdata"
   ]
  },
  {
   "cell_type": "code",
   "execution_count": 8,
   "id": "591b807d",
   "metadata": {},
   "outputs": [
    {
     "data": {
      "image/png": "[encoded data removed]",
      "text/plain": [
       "<Figure size 432x288 with 1 Axes>"
      ]
     },
     "metadata": {
      "needs_background": "light"
     },
     "output_type": "display_data"
    }
   ],
   "source": [
    "fig = plt.figure()\n",
    "ax = plt.axes(projection='3d')\n",
    "\n",
    "ax.scatter3D(xdata, ydata, zdata, c=zdata, cmap='Reds', marker='^', label='data');\n",
    "# 顯示圖例\n",
    "ax.legend()\n",
    "\n",
    "# 顯示圖形\n",
    "plt.show()"
   ]
  },
  {
   "cell_type": "code",
   "execution_count": 9,
   "id": "6f871757",
   "metadata": {},
   "outputs": [
    {
     "data": {
      "text/plain": [
       "5.65"
      ]
     },
     "execution_count": 9,
     "metadata": {},
     "output_type": "execute_result"
    }
   ],
   "source": [
    "np.mean(xdata)"
   ]
  },
  {
   "cell_type": "code",
   "execution_count": 10,
   "id": "6de11517",
   "metadata": {},
   "outputs": [],
   "source": [
    "# Covariance\n",
    "def cov(x, y):\n",
    "    xbar, ybar = np.mean(x), np.mean(y)\n",
    "    return np.sum((x - xbar)*(y - ybar))/(len(x) - 1)\n",
    "\n",
    "# Covariance matrix\n",
    "def cov_mat(df):\n",
    "    xdata = df.loc[:,'x']\n",
    "    ydata = df.loc[:,'y']\n",
    "    zdata = df.loc[:,'z']\n",
    "    return np.array([\n",
    "        [cov(xdata, xdata), cov(xdata, ydata), cov(xdata, zdata)], \\\n",
    "        [cov(ydata, xdata), cov(ydata, ydata), cov(ydata, zdata)], \\\n",
    "        [cov(zdata, xdata), cov(zdata, ydata), cov(zdata, zdata)]\n",
    "                    ])"
   ]
  },
  {
   "cell_type": "code",
   "execution_count": 11,
   "id": "62dd0af3",
   "metadata": {},
   "outputs": [
    {
     "data": {
      "text/plain": [
       "array([[  9.405     , -24.96111111,  -2.23888889],\n",
       "       [-24.96111111,  68.74711111,   5.75555556],\n",
       "       [ -2.23888889,   5.75555556,   9.16666667]])"
      ]
     },
     "execution_count": 11,
     "metadata": {},
     "output_type": "execute_result"
    }
   ],
   "source": [
    "cov_mat(df)"
   ]
  },
  {
   "cell_type": "code",
   "execution_count": null,
   "id": "951b508f",
   "metadata": {},
   "outputs": [],
   "source": []
  }
 ],
 "metadata": {
  "kernelspec": {
   "display_name": "Python 3",
   "language": "python",
   "name": "python3"
  },
  "language_info": {
   "codemirror_mode": {
    "name": "ipython",
    "version": 3
   },
   "file_extension": ".py",
   "mimetype": "text/x-python",
   "name": "python",
   "nbconvert_exporter": "python",
   "pygments_lexer": "ipython3",
   "version": "3.7.11"
  }
 },
 "nbformat": 4,
 "nbformat_minor": 5
}
