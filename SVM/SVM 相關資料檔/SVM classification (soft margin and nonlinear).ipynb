{
 "cells": [
  {
   "cell_type": "markdown",
   "metadata": {
    "slideshow": {
     "slide_type": "subslide"
    }
   },
   "source": [
    "# Limitations of the maximal margin classifier\n",
    "\n",
    "(2) Sensitive to data\n",
    "<img src=\"images/9.5-1.png\" style=\"width:70%;height:70%;\"/>"
   ]
  },
  {
   "cell_type": "markdown",
   "metadata": {
    "slideshow": {
     "slide_type": "fragment"
    }
   },
   "source": [
    "* May want to choose hyperplane that misclassifies in order to acheive:\n",
    "    1. Robustness to noise/mislabeling\n",
    "    2. Better classification of most observations\n"
   ]
  },
  {
   "cell_type": "markdown",
   "metadata": {
    "slideshow": {
     "slide_type": "slide"
    }
   },
   "source": [
    "# Q4: The support vector classifier\n",
    "\n",
    "<img src=\"images/9.3-1.png\" style=\"width:30%;height:30%;\" align=\"right\"/>   \n",
    "* Reminder: Maximal margin classifier\n",
    "<center>\n",
    "$\n",
    "\\begin{array}{lll}\n",
    "\\min & \\frac{1}{2}||\\beta||^2\\\\\n",
    "s.t. & y_i(\\beta_{0}+\\beta_1 x_{i,1} + ... + \\beta_p x_{i,p}) \\geq 1 & \\text{for all }i\n",
    "\\end{array}\n",
    "$\n",
    "</center>\n",
    "<br>\n",
    "* Observations on the margins: $y_i(\\beta_{0}+\\beta_1 x_{i,1} + ... + \\beta_p x_{i,p}) = 1$ (support vectors)\n",
    "* Use \"soft margines\"\n",
    "    - Allow observations to be on the wrong side of the marings (and the hyperplane)\n",
    "    - Add Penalty to the objective of the optimization problem \n"
   ]
  },
  {
   "cell_type": "markdown",
   "metadata": {
    "slideshow": {
     "slide_type": "slide"
    }
   },
   "source": [
    "# Q4: The support vector classifier\n",
    "\n",
    "<img src=\"images/9.3-1.png\" style=\"width:30%;height:30%;\" align=\"right\"/>   \n",
    "* Reminder: Maximal margin classifier\n",
    "<center>\n",
    "$\n",
    "\\begin{array}{lll}\n",
    "\\min & \\frac{1}{2}||\\beta||^2\\\\\n",
    "s.t. & y_i(\\beta_{0}+\\beta_1 x_{i,1} + ... + \\beta_p x_{i,p}) \\geq 1 & \\text{for all }i\n",
    "\\end{array}\n",
    "$\n",
    "</center>\n",
    "<br>\n",
    "* Observations on the margins: $y_i(\\beta_{0}+\\beta_1 x_{i,1} + ... + \\beta_p x_{i,p}) = 1$ (support vectors)\n",
    "* Use \"soft margines\"\n",
    "    - Allow observations to be on the wrong side of the marings (and the hyperplane)\n",
    "    - Add Penalty to the objective of the optimization problem \n",
    "<br><br>\n",
    "* Support vector classifier\n",
    "<center>\n",
    "$\n",
    "\\begin{array}{lll}\n",
    "\\min & \\frac{1}{2}||\\beta||^2 + C\\sum_{i=1}^{n} \\epsilon_i\\\\\n",
    "s.t. & y_i(\\beta_{0}+\\beta_1 x_{i,1} + ... + \\beta_p x_{i,p}) \\geq 1-\\epsilon_i & \\text{for all }i\\\\\n",
    "& \\epsilon_i \\geq 0 & \\text{for all }i\\\\\n",
    "\\end{array}\n",
    "$\n",
    "</center>\n"
   ]
  },
  {
   "cell_type": "markdown",
   "metadata": {
    "slideshow": {
     "slide_type": "slide"
    }
   },
   "source": [
    "# Q4: The support vector classifier - cont.\n",
    "\n",
    "<table align=\"right\">\n",
    "    <tr><td>\n",
    "$\n",
    "\\begin{array}{lll}\n",
    "\\min & \\frac{1}{2}||\\beta||^2 + C\\sum_{i=1}^{n} \\epsilon_i\\\\\n",
    "s.t. & y_i(\\beta_{0}+\\beta_1 x_{i,1} + ... + \\beta_p x_{i,p}) \\geq 1-\\epsilon_i & \\text{for all }i\\\\\n",
    "& \\epsilon_i \\geq 0 & \\text{for all }i\\\\\n",
    "\\end{array}\n",
    "$\n",
    "        </td></tr></table>\n",
    "\n",
    "* $y_i(\\beta_{0}+\\beta_1 x_{i,1} + ... + \\beta_p x_{i,p})>1$ : out of margin \n",
    "* $y_i(\\beta_{0}+\\beta_1 x_{i,1} + ... + \\beta_p x_{i,p})=1$ : on the margin\n",
    "* $1>y_i(\\beta_{0}+\\beta_1 x_{i,1} + ... + \\beta_p x_{i,p})>0$ : on the wrong side of margin\n",
    "* $y_i(\\beta_{0}+\\beta_1 x_{i,1} + ... + \\beta_p x_{i,p})<0$ :\n",
    "on the wrong side of the hyperplane\n",
    "* Support vectors: \n",
    "    - $y_i(\\beta_{0}+\\beta_1 x_{i,1} + ... + \\beta_p x_{i,p})= 1$\n",
    "    - more support vectors (reduces variance)\n",
    "* Tradeoff between the size of the margin and their violation \n",
    "* Sensitivity to the magnitude of each feature\n",
    "<img src=\"images/9.6-1.png\" style=\"width:80%;height:80%;\"/>   "
   ]
  },
  {
   "cell_type": "markdown",
   "metadata": {
    "slideshow": {
     "slide_type": "fragment"
    }
   },
   "source": [
    "* Answered question 4 (what if the observations are not separable?)\n"
   ]
  },
  {
   "cell_type": "markdown",
   "metadata": {
    "slideshow": {
     "slide_type": "slide"
    }
   },
   "source": [
    "# Exercise 4: support vector classifier\n",
    "\n",
    "The file ex4data.csv contains information about 2-dimensional data points and their class. \n",
    "1. Plot the data.\n",
    "2. Is the data linearly separable? \n",
    "3. Plot the separating plane and margins for C=0.02, 0.05, 0.1, 1"
   ]
  },
  {
   "cell_type": "markdown",
   "metadata": {
    "slideshow": {
     "slide_type": "subslide"
    }
   },
   "source": [
    "# Solution to Exercise 4\n"
   ]
  },
  {
   "cell_type": "code",
   "execution_count": 40,
   "metadata": {},
   "outputs": [],
   "source": [
    "import numpy as np\n",
    "import pandas as pd\n",
    "import matplotlib.pyplot as plt\n",
    "import matplotlib.cm as cm\n",
    "%matplotlib inline\n"
   ]
  },
  {
   "cell_type": "code",
   "execution_count": 41,
   "metadata": {},
   "outputs": [
    {
     "data": {
      "text/plain": [
       "(20, 3)"
      ]
     },
     "execution_count": 41,
     "metadata": {},
     "output_type": "execute_result"
    }
   ],
   "source": [
    "df1 = pd.read_csv('ex2data.csv')\n",
    "df1.shape"
   ]
  },
  {
   "cell_type": "code",
   "execution_count": 42,
   "metadata": {
    "slideshow": {
     "slide_type": "fragment"
    }
   },
   "outputs": [
    {
     "data": {
      "text/plain": [
       "Text(0.5,1,'Exercise 4 data')"
      ]
     },
     "execution_count": 42,
     "metadata": {},
     "output_type": "execute_result"
    },
    {
     "data": {
      "image/png": "[encoded data removed]",
      "text/plain": [
       "<Figure size 576x288 with 2 Axes>"
      ]
     },
     "metadata": {},
     "output_type": "display_data"
    }
   ],
   "source": [
    "# load data\n",
    "df1 = pd.read_csv('ex2data.csv')\n",
    "df2 = pd.read_csv('ex4data.csv')\n",
    "\n",
    "# plot\n",
    "fig, axes = plt.subplots(1,2, figsize=(8,4))\n",
    "axes[0].scatter(df1['X1'], df1['X2'], c=df1['class'], cmap=plt.cm.Paired)\n",
    "#try  axes[i].scatter(df2['X1'], df2['X2'], c=df2['class'], cmap=plt.cm.RdGy)\n",
    "#try  axes[i].scatter(df2['X1'], df2['X2'], c=df2['class'], cmap=plt.cm.autumn)\n",
    "#try  axes[i].scatter(df2['X1'], df2['X2'], c=df2['class'], cmap=plt.cm.Greens)\n",
    "   \n",
    "axes[0].set_xlabel('X1')\n",
    "axes[0].set_ylabel('X2')\n",
    "axes[0].set_title('Exercise 2 data')\n",
    "\n",
    "\n",
    "axes[1].scatter(df2['X1'], df2['X2'], c=df2['class'], cmap=plt.cm.Paired)\n",
    "axes[1].set_xlabel('X1')\n",
    "axes[1].set_ylabel('X2')\n",
    "axes[1].set_title('Exercise 4 data')"
   ]
  },
  {
   "cell_type": "markdown",
   "metadata": {
    "slideshow": {
     "slide_type": "fragment"
    }
   },
   "source": [
    "In contrast to exercise 2, the new data is not linearily separable (a red observation is surrounded by blue observations)"
   ]
  },
  {
   "cell_type": "markdown",
   "metadata": {
    "slideshow": {
     "slide_type": "subslide"
    }
   },
   "source": [
    "# Solution to Exercise 4 - cont.\n"
   ]
  },
  {
   "cell_type": "code",
   "execution_count": 43,
   "metadata": {
    "scrolled": true
   },
   "outputs": [
    {
     "data": {
      "text/plain": [
       "SVC(C=0.1, cache_size=200, class_weight=None, coef0=0.0,\n",
       "    decision_function_shape='ovr', degree=3, gamma='auto_deprecated',\n",
       "    kernel='linear', max_iter=-1, probability=False, random_state=None,\n",
       "    shrinking=True, tol=0.001, verbose=False)"
      ]
     },
     "execution_count": 43,
     "metadata": {},
     "output_type": "execute_result"
    }
   ],
   "source": [
    "from sklearn import svm\n",
    "clf = svm.SVC(kernel='linear',C=0.1)\n",
    "clf.fit(df2[['X1','X2']], df2['class'])   #try clf.fit(df[['X1','X2']], df['c'])"
   ]
  },
  {
   "cell_type": "code",
   "execution_count": 44,
   "metadata": {},
   "outputs": [
    {
     "name": "stdout",
     "output_type": "stream",
     "text": [
      "beta0= -0.45 \n",
      "beta1=  0.53 \n",
      "beta2=  0.06\n",
      "Margin: 1.870799191193402\n",
      "support vectors indexes: [ 1  4 11 12 13 14 15 17  0  2  6  7  9 10 16]\n"
     ]
    }
   ],
   "source": [
    "# print beta (the hyperplane coefficents) and the support vectors\n",
    "beta1,beta2 = clf.coef_[0]\n",
    "beta0 = clf.intercept_[0]\n",
    "M = 1/np.sqrt(beta1**2 + beta2**2) #M = 1/||β||\n",
    "print('beta0=%6.2f \\nbeta1=%6.2f \\nbeta2=%6.2f'%(beta0,beta1,beta2))\n",
    "print('Margin:', M)\n",
    "print('support vectors indexes:', clf.support_)"
   ]
  },
  {
   "cell_type": "code",
   "execution_count": 45,
   "metadata": {
    "slideshow": {
     "slide_type": "fragment"
    }
   },
   "outputs": [
    {
     "data": {
      "text/plain": [
       "(-3, 4)"
      ]
     },
     "execution_count": 45,
     "metadata": {},
     "output_type": "execute_result"
    },
    {
     "data": {
      "image/png": "[encoded data removed]",
      "text/plain": [
       "<Figure size 432x288 with 1 Axes>"
      ]
     },
     "metadata": {},
     "output_type": "display_data"
    }
   ],
   "source": [
    "# plot hyperplane, margins and support vectors\n",
    "fig, ax = plt.subplots()\n",
    "ax.scatter(df2['X1'], df2['X2'], c=df2['class'], cmap=plt.cm.Paired)\n",
    "X1_range = [-3,3]\n",
    "X2_hyperplane = list(map(lambda x1:(-beta0-beta1*x1)/beta2, X1_range))\n",
    "#X2 =( -β0 –β1X1 )/β2\n",
    "X2_margin1 = list(map(lambda x1:(-beta0-M*np.sqrt(beta1**2+beta2**2)-beta1*x1)/beta2, X1_range))\n",
    "#try X2_margin1 = list(map(lambda x1:(-beta0-1-beta1*x1)/beta2, X1_range))\n",
    "X2_margin2 = list(map(lambda x1:(-beta0+M*np.sqrt(beta1**2+beta2**2)-beta1*x1)/beta2, X1_range))\n",
    "ax.plot(X1_range,X2_hyperplane,'-k')\n",
    "ax.plot(X1_range,X2_margin1,'--k')\n",
    "# try ax.plot(X1_range,X2_margin1,'-.c')\n",
    "ax.plot(X1_range,X2_margin2,'--k')\n",
    "ax.scatter(clf.support_vectors_[:,0], clf.support_vectors_[:,1], s=80, facecolors='none')\n",
    "\n",
    "ax.set_xlabel('X1')\n",
    "ax.set_ylabel('X2')\n",
    "ax.text(-1, 3.5, '+1')\n",
    "ax.text(-2.9, 3.5, '-1')\n",
    "ax.set_xlim([-3,3])\n",
    "ax.set_ylim([-3,4])  "
   ]
  },
  {
   "cell_type": "code",
   "execution_count": 46,
   "metadata": {},
   "outputs": [
    {
     "data": {
      "image/png": "[encoded data removed]",
      "text/plain": [
       "<Figure size 432x288 with 1 Axes>"
      ]
     },
     "metadata": {},
     "output_type": "display_data"
    }
   ],
   "source": [
    "X = df2[['X1','X2']] # use only two features for prediction\n",
    "Y = df2['class']\n",
    "\n",
    "from tools import * # the file tools.py contains the function \n",
    "plot_decision_boundary_2d(df=X, Y=Y, clf=clf, title='Decision boundary for SVM')"
   ]
  },
  {
   "cell_type": "code",
   "execution_count": 47,
   "metadata": {},
   "outputs": [
    {
     "data": {
      "text/plain": [
       "array([ 1.27735382, -1.25166708, -0.7535161 , -0.8770858 , -0.7303931 ,\n",
       "        0.9471728 , -0.84328109,  2.89964919, -2.15736287,  1.98285807,\n",
       "        2.73926463,  1.00301292,  0.18896567,  1.81241114,  2.40220471])"
      ]
     },
     "execution_count": 47,
     "metadata": {},
     "output_type": "execute_result"
    }
   ],
   "source": [
    "clf.support_vectors_[:,0]"
   ]
  },
  {
   "cell_type": "code",
   "execution_count": 48,
   "metadata": {},
   "outputs": [
    {
     "data": {
      "text/plain": [
       "array([-2.74581572,  2.02194219,  2.88279875,  0.53197293, -2.72693572,\n",
       "       -1.8121032 , -0.57135823,  1.6315852 , -2.32650004, -1.63355404,\n",
       "       -0.03632847,  2.57771244,  1.78847412,  0.30596382,  0.60766303])"
      ]
     },
     "execution_count": 48,
     "metadata": {},
     "output_type": "execute_result"
    }
   ],
   "source": [
    "clf.support_vectors_[:,1]"
   ]
  },
  {
   "cell_type": "code",
   "execution_count": 49,
   "metadata": {},
   "outputs": [
    {
     "data": {
      "image/png": "[encoded data removed]",
      "text/plain": [
       "<Figure size 864x216 with 4 Axes>"
      ]
     },
     "metadata": {},
     "output_type": "display_data"
    }
   ],
   "source": [
    "C_range = [0.02, 0.05, 0.1, 1]\n",
    "fig, axes = plt.subplots(1,len(C_range), figsize=(12,3))\n",
    "l=5 # display parameter\n",
    "\n",
    "for i in range(len(C_range)):\n",
    "    clf = svm.SVC(kernel='linear',C=C_range[i])\n",
    "    clf.fit(df2[['X1','X2']], df2['class'])\n",
    "\n",
    "    beta1,beta2 = clf.coef_[0]\n",
    "    beta0 = clf.intercept_[0]\n",
    "    M = 1/np.sqrt(beta1**2+beta2**2) # margin\n",
    "    training_error=sum(clf.predict(df2[['X1','X2']])!=df2['class'])\n",
    "    axes[i].scatter(df2['X1'], df2['X2'], c=df2['class'], cmap=plt.cm.Paired)\n",
    "    \n",
    "    X1_range = [-l,l]\n",
    "    X2_hyperplane = list(map(lambda x1:(-beta0-beta1*x1)/beta2, X1_range))\n",
    "    X2_margin1 = list(map(lambda x1:(-beta0-1-beta1*x1)/beta2, X1_range))\n",
    "    X2_margin2 = list(map(lambda x1:(-beta0+1-beta1*x1)/beta2, X1_range))\n",
    "\n",
    "    axes[i].plot(X1_range,X2_hyperplane,'-k')\n",
    "    axes[i].plot(X1_range,X2_margin1,'--k')\n",
    "    axes[i].plot(X1_range,X2_margin2,'--k')\n",
    "    axes[i].scatter(clf.support_vectors_[:,0], clf.support_vectors_[:,1], s=80, facecolors='none')\n",
    "    axes[i].set_xlabel('X1')\n",
    "    axes[i].set_ylabel('X2')\n",
    "    axes[i].set_xlim([-l,l])\n",
    "    axes[i].set_ylim([-l,l])    \n",
    "    axes[i].set_title(\"C=%.2f, M=%.2f, \\nTraining errors=%d\"%(C_range[i],M,training_error))\n",
    "        \n",
    "fig.tight_layout()"
   ]
  },
  {
   "cell_type": "markdown",
   "metadata": {
    "slideshow": {
     "slide_type": "subslide"
    }
   },
   "source": [
    "# Solution to Exercise 4 - cont.\n"
   ]
  },
  {
   "cell_type": "code",
   "execution_count": 50,
   "metadata": {
    "slideshow": {
     "slide_type": "-"
    }
   },
   "outputs": [
    {
     "name": "stdout",
     "output_type": "stream",
     "text": [
      "[0.8        1.         0.25       0.66666667 1.        ]\n",
      "C=0.10 Accuracy: 0.74 (+/- 0.28)\n"
     ]
    }
   ],
   "source": [
    "from sklearn.model_selection import cross_val_score # cross validation\n",
    "X=df2[['X1','X2']]\n",
    "Y=df2['class']\n",
    "clf = svm.SVC(kernel='linear',C=0.1)  \n",
    "scores = cross_val_score(clf, X, Y, cv=5)\n",
    "print(scores)\n",
    "print(\"C=%.2f Accuracy: %0.2f (+/- %0.2f)\" % (0.1,scores.mean(), scores.std()))    "
   ]
  },
  {
   "cell_type": "code",
   "execution_count": 51,
   "metadata": {},
   "outputs": [
    {
     "name": "stdout",
     "output_type": "stream",
     "text": [
      "0.01\n",
      "0.09999999999999999\n",
      "0.19\n",
      "0.28\n",
      "0.37\n",
      "0.45999999999999996\n",
      "0.55\n",
      "0.64\n",
      "0.73\n",
      "0.82\n",
      "0.9099999999999999\n",
      "1.0\n"
     ]
    }
   ],
   "source": [
    "for i in np.linspace(0.01,1,12): \n",
    "    print(i)"
   ]
  },
  {
   "cell_type": "code",
   "execution_count": 52,
   "metadata": {},
   "outputs": [
    {
     "name": "stdout",
     "output_type": "stream",
     "text": [
      "0.001\n",
      "0.021544346900318832\n",
      "0.46415888336127775\n",
      "10.0\n"
     ]
    }
   ],
   "source": [
    "for i in np.logspace(-3, 1, 4):\n",
    "    print(i)"
   ]
  },
  {
   "cell_type": "code",
   "execution_count": 53,
   "metadata": {
    "slideshow": {
     "slide_type": "fragment"
    }
   },
   "outputs": [
    {
     "data": {
      "text/html": [
       "<div>\n",
       "<style scoped>\n",
       "    .dataframe tbody tr th:only-of-type {\n",
       "        vertical-align: middle;\n",
       "    }\n",
       "\n",
       "    .dataframe tbody tr th {\n",
       "        vertical-align: top;\n",
       "    }\n",
       "\n",
       "    .dataframe thead th {\n",
       "        text-align: right;\n",
       "    }\n",
       "</style>\n",
       "<table border=\"1\" class=\"dataframe\">\n",
       "  <thead>\n",
       "    <tr style=\"text-align: right;\">\n",
       "      <th></th>\n",
       "      <th>C</th>\n",
       "      <th>mean</th>\n",
       "      <th>std</th>\n",
       "    </tr>\n",
       "  </thead>\n",
       "  <tbody>\n",
       "    <tr>\n",
       "      <th>0</th>\n",
       "      <td>0.001000</td>\n",
       "      <td>0.606667</td>\n",
       "      <td>0.061101</td>\n",
       "    </tr>\n",
       "    <tr>\n",
       "      <th>1</th>\n",
       "      <td>0.002783</td>\n",
       "      <td>0.606667</td>\n",
       "      <td>0.061101</td>\n",
       "    </tr>\n",
       "    <tr>\n",
       "      <th>2</th>\n",
       "      <td>0.007743</td>\n",
       "      <td>0.606667</td>\n",
       "      <td>0.061101</td>\n",
       "    </tr>\n",
       "    <tr>\n",
       "      <th>3</th>\n",
       "      <td>0.021544</td>\n",
       "      <td>0.606667</td>\n",
       "      <td>0.061101</td>\n",
       "    </tr>\n",
       "    <tr>\n",
       "      <th>4</th>\n",
       "      <td>0.059948</td>\n",
       "      <td>0.743333</td>\n",
       "      <td>0.277208</td>\n",
       "    </tr>\n",
       "    <tr>\n",
       "      <th>5</th>\n",
       "      <td>0.166810</td>\n",
       "      <td>0.793333</td>\n",
       "      <td>0.193678</td>\n",
       "    </tr>\n",
       "    <tr>\n",
       "      <th>6</th>\n",
       "      <td>0.464159</td>\n",
       "      <td>0.753333</td>\n",
       "      <td>0.208273</td>\n",
       "    </tr>\n",
       "    <tr>\n",
       "      <th>7</th>\n",
       "      <td>1.291550</td>\n",
       "      <td>0.753333</td>\n",
       "      <td>0.208273</td>\n",
       "    </tr>\n",
       "    <tr>\n",
       "      <th>8</th>\n",
       "      <td>3.593814</td>\n",
       "      <td>0.753333</td>\n",
       "      <td>0.208273</td>\n",
       "    </tr>\n",
       "    <tr>\n",
       "      <th>9</th>\n",
       "      <td>10.000000</td>\n",
       "      <td>0.753333</td>\n",
       "      <td>0.208273</td>\n",
       "    </tr>\n",
       "  </tbody>\n",
       "</table>\n",
       "</div>"
      ],
      "text/plain": [
       "           C      mean       std\n",
       "0   0.001000  0.606667  0.061101\n",
       "1   0.002783  0.606667  0.061101\n",
       "2   0.007743  0.606667  0.061101\n",
       "3   0.021544  0.606667  0.061101\n",
       "4   0.059948  0.743333  0.277208\n",
       "5   0.166810  0.793333  0.193678\n",
       "6   0.464159  0.753333  0.208273\n",
       "7   1.291550  0.753333  0.208273\n",
       "8   3.593814  0.753333  0.208273\n",
       "9  10.000000  0.753333  0.208273"
      ]
     },
     "execution_count": 53,
     "metadata": {},
     "output_type": "execute_result"
    }
   ],
   "source": [
    "# cross validation\n",
    "X=df2[['X1','X2']]\n",
    "Y=df2['class']\n",
    "results=[]\n",
    "\n",
    "#for i in np.linspace(0.01,1,100): \n",
    "#for i in np.logspace(-4,3,10,base=2): \n",
    "for i in np.logspace(-3, 1, 10):\n",
    "    clf = svm.SVC(kernel='linear',C=i)  \n",
    "    scores = cross_val_score(clf, X, Y, cv=5)\n",
    "    results.append([i,scores.mean(), scores.std()])\n",
    "    \n",
    "df_accuracy = pd.DataFrame(data=results,columns=['C','mean','std'])\n",
    "df_accuracy"
   ]
  },
  {
   "cell_type": "code",
   "execution_count": 54,
   "metadata": {},
   "outputs": [
    {
     "name": "stdout",
     "output_type": "stream",
     "text": [
      "[0.01 0.12 0.23 0.34 0.45 0.56 0.67 0.78 0.89 1.  ]\n"
     ]
    }
   ],
   "source": [
    "a = np.linspace(0.01,1,10)\n",
    "print (a)"
   ]
  },
  {
   "cell_type": "markdown",
   "metadata": {
    "slideshow": {
     "slide_type": "subslide"
    }
   },
   "source": [
    "# Solution to Exercise 4 - cont.\n"
   ]
  },
  {
   "cell_type": "code",
   "execution_count": 55,
   "metadata": {
    "slideshow": {
     "slide_type": "fragment"
    }
   },
   "outputs": [
    {
     "data": {
      "text/plain": [
       "<matplotlib.axes._subplots.AxesSubplot at 0x2484780f780>"
      ]
     },
     "execution_count": 55,
     "metadata": {},
     "output_type": "execute_result"
    },
    {
     "data": {
      "image/png": "[encoded data removed]",
      "text/plain": [
       "<Figure size 432x288 with 1 Axes>"
      ]
     },
     "metadata": {},
     "output_type": "display_data"
    }
   ],
   "source": [
    "# plot test error per tree depth\n",
    "df_accuracy.plot.bar(x='C',y='mean',yerr='std')"
   ]
  },
  {
   "cell_type": "markdown",
   "metadata": {
    "slideshow": {
     "slide_type": "-"
    }
   },
   "source": [
    "Lower values of C lead to less variable classifiers (but with more bias)"
   ]
  },
  {
   "cell_type": "markdown",
   "metadata": {
    "slideshow": {
     "slide_type": "subslide"
    }
   },
   "source": [
    "# Q5: Support vector machine * \n",
    "\n",
    "- If data is \"almost\" separable, use support vector classifier\n",
    "<!--- Other linear classifiers: logistic regression, LDA-->\n",
    "<!--- Why do we need another one? -->\n",
    "- What if its fundamentally different? \n",
    "- Example:\n",
    "\n",
    "<table>\n",
    "    <tr>\n",
    "        <th>$X_1$</th>\n",
    "        <td>4</td>\n",
    "        <td>3</td>\n",
    "        <td>2</td>\n",
    "        <td>1</td>\n",
    "        <td>0</td>\n",
    "        <td>-1</td>\n",
    "        <td>-2</td>\n",
    "        <td>-3</td>\n",
    "        <td>-4</td>\n",
    "    </tr>\n",
    "    <tr>\n",
    "        <th>$Y$</th>\n",
    "        <td>+1</td>\n",
    "        <td>+1</td>\n",
    "        <td>+1</td>\n",
    "        <td>-1</td>\n",
    "        <td>-1</td>\n",
    "        <td>-1</td>\n",
    "        <td>+1</td>\n",
    "        <td>+1</td>\n",
    "        <td>+1</td>\n",
    "    </tr>  \n",
    "</table>  \n",
    "\n",
    "- Is the data linearly separable?\n",
    "- Can a linear classifier work well?"
   ]
  },
  {
   "cell_type": "markdown",
   "metadata": {
    "slideshow": {
     "slide_type": "subslide"
    }
   },
   "source": [
    "# Expanding the feature space\n",
    "\n",
    "* Use a linear classifier to create a non-linear classifier\n",
    "* Example 1: \n",
    "    - Orignal feature space: $(x_1)$\n",
    "    - Extended feature space: $(x_1,x_1^2)$ <!--or $(1,\\sqrt{2}x_1,x_1^2)$-->\n",
    "* Example 2: \n",
    "    - Orignal feature space: $(x_1,x_2)$ \n",
    "    - Extended feature space: $(x_1,x_2,x_1x_2, x_1^2, x_2^2)$ <!--or $(1,\\sqrt{2}x_1,\\sqrt{2}x_2,\\sqrt{2}x_1x_2, x_1^2, x_2^2)$-->"
   ]
  },
  {
   "cell_type": "markdown",
   "metadata": {
    "slideshow": {
     "slide_type": "skip"
    }
   },
   "source": [
    "<table border=\"0\" style=\"width:70%;height:40%;float: center;\">\n",
    "    <tr>\n",
    "        <td>\n",
    "            <center> Original feature space</center>\n",
    "    <table border=\"1\" >\n",
    "        <tr>\n",
    "            <th>$X_1$</th>\n",
    "            <th>$X_2$</th>\n",
    "            <th>$Y$</th>\n",
    "        </tr>\n",
    "        <tr>\n",
    "            <td>$x_{1,1}$</td>\n",
    "            <td>$x_{1,2}$</td>\n",
    "            <td>$Y_1$</td>\n",
    "        </tr>\n",
    "        <tr>\n",
    "            <td>$x_{2,1}$</td>\n",
    "            <td>$x_{2,2}$</td>\n",
    "            <td>$Y_2$</td>\n",
    "        </tr>\n",
    "        <tr>\n",
    "            <td>...</td>\n",
    "            <td>...</td>\n",
    "            <td>...</td>\n",
    "        </tr>    \n",
    "        <tr>\n",
    "            <td>$x_{n,1}$</td>\n",
    "            <td>$x_{n,2}$</td>\n",
    "            <td>$Y_n$</td>\n",
    "        </tr>\n",
    "    </table>\n",
    "\n",
    "</td><td>            <center> Expanded feature space</center>\n",
    "\n",
    "<table border=\"1\">\n",
    "    <tr>\n",
    "        <th>$X_1$</th>\n",
    "        <th>$X_2$</th>\n",
    "        <th>$X_1X_2$</th>\n",
    "        <th>$X_1^2$</th>\n",
    "        <th>$X_2^2$</th>\n",
    "        <th>$Y$</th>\n",
    "    </tr>\n",
    "    <tr>\n",
    "        <td>$x_{1,1}$</td>\n",
    "        <td>$x_{1,2}$</td>\n",
    "        <td>$x_{1,1}x_{1,2}$</td>\n",
    "        <td>$x_{1,1}^2$</td>\n",
    "        <td>$x_{1,2}^2$</td>\n",
    "        <td>$Y_1$</td>\n",
    "    </tr>\n",
    "    <tr>\n",
    "        <td>$x_{2,1}$</td>\n",
    "        <td>$x_{2,2}$</td>\n",
    "        <td>$x_{2,1}x_{2,2}$</td>\n",
    "        <td>$x_{2,1}^2$</td>\n",
    "        <td>$x_{2,2}^2$</td>\n",
    "        <td>$Y_2$</td>\n",
    "    </tr>\n",
    "    <tr>\n",
    "        <td>...</td>\n",
    "        <td>...</td>\n",
    "        <td>...</td>\n",
    "        <td>...</td>\n",
    "        <td>...</td>\n",
    "        <td>...</td>\n",
    "    </tr>    \n",
    "    <tr>\n",
    "        <td>$x_{n,1}$</td>\n",
    "        <td>$x_{n,2}$</td>\n",
    "        <td>$x_{n,1}x_{n,2}$</td>\n",
    "        <td>$x_{n,1}^2$</td>\n",
    "        <td>$x_{n,2}^2$</td>\n",
    "        <td>$Y_n$</td>\n",
    "    </tr>\n",
    "</table>\n",
    "   \n",
    "    \n",
    "</td></tr>    \n",
    "</table>\n",
    "\n",
    "* Is there a computation overhead in adding features? \n",
    "     \n"
   ]
  },
  {
   "cell_type": "markdown",
   "metadata": {
    "slideshow": {
     "slide_type": "fragment"
    }
   },
   "source": [
    "\n",
    "- __In SVM there is no computational overhead for many types of feature expansion!__ \n",
    "    * Kernel trick\n",
    "\n"
   ]
  },
  {
   "cell_type": "markdown",
   "metadata": {
    "slideshow": {
     "slide_type": "subslide"
    }
   },
   "source": [
    "# Support vector machine - cont. *\n",
    "\\* assumes familiarity with convex optimization\n",
    "\n",
    "* Support vector classifier\n",
    "<center>\n",
    "$\n",
    "\\begin{array}{lll}\n",
    "\\min & \\frac{1}{2}||\\beta||^2 + C\\sum_{i=1}^{n} \\epsilon_i\\\\\n",
    "s.t. & y_i(\\beta_0+\\beta_{1} x_{i,1} + ... + \\beta_p x_{i,p}) \\geq 1-\\epsilon_i & \\text{for all }i\\\\\n",
    "& \\epsilon_i \\geq 0 & \\text{for all }i\\\\\n",
    "\\end{array}\n",
    "$\n",
    "</center>\n",
    "\n",
    "* Dual problem: \n",
    "<center>\n",
    "$\n",
    "\\begin{array}{lll}\n",
    "\\max & \\sum_{i=1}^{n}\\alpha_i - \\frac{1}{2}\\sum_{i=1}^{n}\\sum_{j=1}^{n}\\alpha_i\\alpha_jy_iy_jK(\\bar{x}_i,\\bar{x}_j)\\\\\n",
    "   s.t. & 0 \\leq \\alpha_i \\leq C & \\text{for all }i\\\\\n",
    "        & \\sum_{i=1}^{n}\\alpha_iy_i=0 & \\\\\n",
    "\\end{array}\n",
    "$\n",
    "</center>\n",
    "\n",
    "where $K(\\bar{x}_i,\\bar{x}_j)=\\sum_{t=1}^{p}x_{i,t}x_{j,t}$ is the linear kernel"
   ]
  },
  {
   "cell_type": "markdown",
   "metadata": {
    "slideshow": {
     "slide_type": "subslide"
    }
   },
   "source": [
    "# Support vector machine - cont. *\n",
    "Observations: \n",
    "- $\\min \\rightarrow \\max$\n",
    "- $\\beta,\\epsilon \\rightarrow \\alpha$\n",
    "    - primal problem: variable for each feature (and error terms for each feature)\n",
    "    - dual problem: variable for each observation"
   ]
  },
  {
   "cell_type": "markdown",
   "metadata": {
    "slideshow": {
     "slide_type": "fragment"
    }
   },
   "source": [
    "- What happens to each formulation if there are additional $10^6$ features? \n",
    "    - primal: optimization problem becomes more difficult (more variables) \n",
    "    - dual: more setup work in calculating the Kernel\n",
    "        - We only need the information about the product of feature vectors\n",
    "        - Suppose each vector has two features: $\\bar{x}_i = (x_{i,1},x_{i,2})$\n",
    "        <center>\n",
    "        $K(\\bar{x}_i,\\bar{x}_j) = K((x_{i,1},x_{i,2}),(x_{j,1},x_{j,2})) = x_{i,1}x_{j,1}+x_{i,2}x_{j,2}$\n",
    "        </center>\n",
    "\n",
    "        - Extended feature space: $\\bar{x}_i = (1,\\sqrt{2}x_{i,1},\\sqrt{2}x_{i,2},\\sqrt{2}x_{i,1}x_{i,2}, x_{i,1}^2, x_{i,2}^2)$\n",
    "<center>\n",
    "$K(\\bar{x}_i,\\bar{x}_j) = 1+2x_{i,1}x_{j,1}+2x_{i,2}x_{j,2}+2x_{i,1}x_{i,2}x_{j,1}x_{j,2}+ x_{i,1}^2x_{j,1}^2+ x_{i,2}^2x_{j,2}^2  = (1+x_{i,1}x_{j,1}+x_{i,2}x_{j,2})^2$\n",
    "</center>\n"
   ]
  },
  {
   "cell_type": "markdown",
   "metadata": {
    "slideshow": {
     "slide_type": "fragment"
    }
   },
   "source": [
    "- __The same computational effort with an exponential (and potentially infinite) number of features!__"
   ]
  },
  {
   "cell_type": "markdown",
   "metadata": {
    "collapsed": true,
    "slideshow": {
     "slide_type": "subslide"
    }
   },
   "source": [
    "#  Support vector machine - cont. *\n",
    "\n",
    "* $\\beta$ - separating hyperplane equation. \n",
    "* Classified based on the sign of $\\beta_0+\\beta_1 x_1 + ... + \\beta_p x_p$ \n",
    "\n",
    "* How do we classify now? \n",
    "    - In the optimization we compute $\\alpha$ and not $\\beta$\n",
    "    * Classifying new points:\n",
    "    <center>\n",
    "    $\\beta_0+\\beta_1 x_1 + ... + \\beta_p x_p\n",
    "    =\\sum_{i\\in \\{1..n\\}} \\alpha_iy_iK(\\bar{x},\\bar{x}_i) + \\beta_0\n",
    "    =\\sum_{i\\in\\{SV\\}} \\alpha_iy_iK(\\bar{x},\\bar{x}_i) + \\beta_0$\n",
    "    </center>\n",
    "    * clf.predict(list_of_observations) - returns a same-size array of predictions\n"
   ]
  },
  {
   "cell_type": "markdown",
   "metadata": {
    "slideshow": {
     "slide_type": "subslide"
    }
   },
   "source": [
    "# Kernels\n",
    "\n",
    "* How to think about kernels?\n",
    "\n",
    "\n",
    "* Kernel: a trick that allows adding features for free\n",
    "    * Polynomial kernel of degree 1 (Linear kernel) uses the original feature space = support vector classifier\n",
    "    * Polynomial kernel of degree 2 adds the features $x_1^2$, $x_2^2$, $x_1x_2$, ...\n",
    "    * Polynomial kernel of degree 3 adds the features $x_1^2$, $x_1^3$, $x_1x_2$, $x_1^2x_2$, $x_1x_2^2$, ...\n",
    "    * Polynomial kernel of degree $d$ adds features of the form $x_{1}^2$,$x_{1}^3$,...,  $x_{1}^d$, $x_{1}x_{2}$, $x_{1}x_{2}^{d-1}$ etc.\n",
    "<!---* Revisit the optimization problem--->\n",
    "<!---center>\n",
    "$\n",
    "\\begin{array}{lll}\n",
    "\\max & \\sum_{i=1}^{n}\\alpha_i - \\frac{1}{2}\\sum_{i=1}^{n}\\sum_{j=1}^{n}\\alpha_i\\alpha_jy_iy_jK(\\bar{x}_i,\\bar{x}_j)\\\\\n",
    "   s.t. & 0 \\leq \\alpha_i \\leq C & \\text{for all }i\\\\\n",
    "        & \\sum_{i=1}^{n}\\alpha_iy_i=0 & \\\\\n",
    "\\end{array}\n",
    "$\n",
    "</center--->"
   ]
  },
  {
   "cell_type": "markdown",
   "metadata": {
    "slideshow": {
     "slide_type": "subslide"
    }
   },
   "source": [
    "# Kernels - cont.\n",
    "\n",
    "\n",
    "* Kernel: a measure of the similarity of two observations\n",
    "    * Alternative approach of the classification problems\n",
    "    * Circumvent the need to define features\n",
    "    * Polynomial kernel: $(1+<\\bar{x}_i,\\bar{x}_j>)^d$ (dot product https://en.wikipedia.org/wiki/Dot_product)\n",
    "    * Radial basis kernel: \n",
    "        - $K(\\bar{x}_i,\\bar{x}_j)=e^{-\\gamma\\sum_{t=1}^{p}(x_{i,t}-x_{j,t})^2}$\n",
    "    <!-- - prediction: $\\sum_{i\\in\\{SV\\}} \\alpha_iy_iK(\\bar{x},\\bar{x}_i) + \\beta_0>0$-->\n",
    "\n",
    "* Which kernel should we use? \n",
    "    - overfitting vs. underfitting\n"
   ]
  },
  {
   "cell_type": "markdown",
   "metadata": {
    "collapsed": true,
    "slideshow": {
     "slide_type": "slide"
    }
   },
   "source": [
    "# Exercise 5: support vector machine\n",
    "1. Plot the data in the file data/ex5data.csv\n",
    "2. Is the data linearily separable?\n",
    "3. Fit the data to an SVM model with a polynomial kernel of degree 2 and tuning parameter C=10 (clf = svm.SVC(kernel='poly',C=10, degree=2))\n",
    "4. Visualize the prediction of the classifier (i.e., the different regions of classification)\n",
    "5. What is the number of training errors?\n",
    "6. Repeat the fitting with C=[0.01,0.1,1]. What is the influence of C?"
   ]
  },
  {
   "cell_type": "markdown",
   "metadata": {
    "collapsed": true,
    "slideshow": {
     "slide_type": "subslide"
    }
   },
   "source": [
    "# Solution to exercise 5"
   ]
  },
  {
   "cell_type": "code",
   "execution_count": 57,
   "metadata": {},
   "outputs": [
    {
     "data": {
      "text/html": [
       "<div>\n",
       "<style scoped>\n",
       "    .dataframe tbody tr th:only-of-type {\n",
       "        vertical-align: middle;\n",
       "    }\n",
       "\n",
       "    .dataframe tbody tr th {\n",
       "        vertical-align: top;\n",
       "    }\n",
       "\n",
       "    .dataframe thead th {\n",
       "        text-align: right;\n",
       "    }\n",
       "</style>\n",
       "<table border=\"1\" class=\"dataframe\">\n",
       "  <thead>\n",
       "    <tr style=\"text-align: right;\">\n",
       "      <th></th>\n",
       "      <th>Unnamed: 0</th>\n",
       "      <th>X1</th>\n",
       "      <th>X2</th>\n",
       "      <th>Y</th>\n",
       "    </tr>\n",
       "  </thead>\n",
       "  <tbody>\n",
       "    <tr>\n",
       "      <th>0</th>\n",
       "      <td>0</td>\n",
       "      <td>6</td>\n",
       "      <td>-9</td>\n",
       "      <td>False</td>\n",
       "    </tr>\n",
       "    <tr>\n",
       "      <th>1</th>\n",
       "      <td>1</td>\n",
       "      <td>7</td>\n",
       "      <td>5</td>\n",
       "      <td>False</td>\n",
       "    </tr>\n",
       "    <tr>\n",
       "      <th>2</th>\n",
       "      <td>2</td>\n",
       "      <td>-2</td>\n",
       "      <td>4</td>\n",
       "      <td>True</td>\n",
       "    </tr>\n",
       "    <tr>\n",
       "      <th>3</th>\n",
       "      <td>3</td>\n",
       "      <td>0</td>\n",
       "      <td>-2</td>\n",
       "      <td>True</td>\n",
       "    </tr>\n",
       "    <tr>\n",
       "      <th>4</th>\n",
       "      <td>4</td>\n",
       "      <td>-8</td>\n",
       "      <td>1</td>\n",
       "      <td>False</td>\n",
       "    </tr>\n",
       "  </tbody>\n",
       "</table>\n",
       "</div>"
      ],
      "text/plain": [
       "   Unnamed: 0  X1  X2      Y\n",
       "0           0   6  -9  False\n",
       "1           1   7   5  False\n",
       "2           2  -2   4   True\n",
       "3           3   0  -2   True\n",
       "4           4  -8   1  False"
      ]
     },
     "execution_count": 57,
     "metadata": {},
     "output_type": "execute_result"
    }
   ],
   "source": [
    "df.head()"
   ]
  },
  {
   "cell_type": "code",
   "execution_count": 56,
   "metadata": {},
   "outputs": [
    {
     "ename": "TypeError",
     "evalue": "'str' object is not callable",
     "output_type": "error",
     "traceback": [
      "\u001b[1;31m---------------------------------------------------------------------------\u001b[0m",
      "\u001b[1;31mTypeError\u001b[0m                                 Traceback (most recent call last)",
      "\u001b[1;32m<ipython-input-56-162fb824e8ff>\u001b[0m in \u001b[0;36m<module>\u001b[1;34m()\u001b[0m\n\u001b[0;32m      5\u001b[0m \u001b[0mfig\u001b[0m\u001b[1;33m,\u001b[0m \u001b[0max\u001b[0m \u001b[1;33m=\u001b[0m \u001b[0mplt\u001b[0m\u001b[1;33m.\u001b[0m\u001b[0msubplots\u001b[0m\u001b[1;33m(\u001b[0m\u001b[1;33m)\u001b[0m\u001b[1;33m\u001b[0m\u001b[0m\n\u001b[0;32m      6\u001b[0m \u001b[0mplt\u001b[0m\u001b[1;33m.\u001b[0m\u001b[0mscatter\u001b[0m\u001b[1;33m(\u001b[0m\u001b[0mdf\u001b[0m\u001b[1;33m[\u001b[0m\u001b[1;34m'X1'\u001b[0m\u001b[1;33m]\u001b[0m\u001b[1;33m,\u001b[0m \u001b[0mdf\u001b[0m\u001b[1;33m[\u001b[0m\u001b[1;34m'X2'\u001b[0m\u001b[1;33m]\u001b[0m\u001b[1;33m,\u001b[0m \u001b[0mc\u001b[0m\u001b[1;33m=\u001b[0m\u001b[0mdf\u001b[0m\u001b[1;33m[\u001b[0m\u001b[1;34m'Y'\u001b[0m\u001b[1;33m]\u001b[0m\u001b[1;33m,\u001b[0m \u001b[0ms\u001b[0m\u001b[1;33m=\u001b[0m\u001b[1;36m30\u001b[0m\u001b[1;33m,\u001b[0m \u001b[0mcmap\u001b[0m\u001b[1;33m=\u001b[0m\u001b[0mplt\u001b[0m\u001b[1;33m.\u001b[0m\u001b[0mcm\u001b[0m\u001b[1;33m.\u001b[0m\u001b[0mPaired\u001b[0m\u001b[1;33m)\u001b[0m\u001b[1;33m\u001b[0m\u001b[0m\n\u001b[1;32m----> 7\u001b[1;33m \u001b[0mplt\u001b[0m\u001b[1;33m.\u001b[0m\u001b[0mxlabel\u001b[0m\u001b[1;33m(\u001b[0m\u001b[1;34m'X1'\u001b[0m\u001b[1;33m)\u001b[0m\u001b[1;33m\u001b[0m\u001b[0m\n\u001b[0m\u001b[0;32m      8\u001b[0m \u001b[0mplt\u001b[0m\u001b[1;33m.\u001b[0m\u001b[0mylabel\u001b[0m\u001b[1;33m(\u001b[0m\u001b[1;34m'X2'\u001b[0m\u001b[1;33m)\u001b[0m\u001b[1;33m\u001b[0m\u001b[0m\n",
      "\u001b[1;31mTypeError\u001b[0m: 'str' object is not callable"
     ]
    },
    {
     "data": {
      "image/png": "[encoded data removed]",
      "text/plain": [
       "<Figure size 432x288 with 1 Axes>"
      ]
     },
     "metadata": {},
     "output_type": "display_data"
    }
   ],
   "source": [
    "# load data\n",
    "df = pd.read_csv('ex5data.csv')\n",
    "\n",
    "# plot\n",
    "fig, ax = plt.subplots()\n",
    "plt.scatter(df['X1'], df['X2'], c=df['Y'], s=30, cmap=plt.cm.Paired)\n",
    "plt.xlabel('X1')\n",
    "plt.ylabel('X2')"
   ]
  },
  {
   "cell_type": "code",
   "execution_count": null,
   "metadata": {},
   "outputs": [],
   "source": [
    "df.head()"
   ]
  },
  {
   "cell_type": "markdown",
   "metadata": {
    "slideshow": {
     "slide_type": "-"
    }
   },
   "source": [
    "The data is not linearlity separable"
   ]
  },
  {
   "cell_type": "markdown",
   "metadata": {
    "collapsed": true,
    "slideshow": {
     "slide_type": "subslide"
    }
   },
   "source": [
    "# Solution to exercise 5 - cont."
   ]
  },
  {
   "cell_type": "code",
   "execution_count": null,
   "metadata": {
    "slideshow": {
     "slide_type": "-"
    }
   },
   "outputs": [],
   "source": [
    "clf = svm.SVC(kernel='poly', degree=2, C=10) # fit SVM with polynomial kernel \n",
    "clf.fit(df[['X1','X2']], df['Y'])"
   ]
  },
  {
   "cell_type": "code",
   "execution_count": null,
   "metadata": {
    "slideshow": {
     "slide_type": "fragment"
    }
   },
   "outputs": [],
   "source": [
    "# plot predictions\n",
    "fig, ax = plt.subplots()\n",
    "r=15\n",
    "support = [(i,j) for i in np.linspace(-r,r,31) for j in np.linspace(-r,r,31)]\n",
    "df_background = pd.DataFrame(data=support, columns=['X1','X2'])\n",
    "df_background['prediction']=clf.predict(support) \n",
    "df_background[df_background['prediction']==True].plot.scatter('X1','X2',color='r', alpha=.2, s=25,ax=ax,label='Predict True')\n",
    "df_background[df_background['prediction']==False].plot.scatter('X1','X2',color='b',alpha=.2, s=25,ax=ax,label='Predict False')\n",
    "ax.set_xlim([-l,l])\n",
    "ax.set_ylim([-l,l])\n",
    "\n",
    "# plot observations\n",
    "plt.scatter(df['X1'], df['X2'], c=df['Y'], cmap=plt.cm.Paired,s=60)\n",
    "\n",
    "# plot support vectors\n",
    "ax.scatter(clf.support_vectors_[:,0], clf.support_vectors_[:,1], s=120, facecolors='none')\n",
    "# try ax.scatter(clf.support_vectors_[:,0], clf.support_vectors_[:,1], s=120, facecolors='black')"
   ]
  },
  {
   "cell_type": "markdown",
   "metadata": {
    "collapsed": true,
    "slideshow": {
     "slide_type": "subslide"
    }
   },
   "source": [
    "# Solution to exercise 5 - cont."
   ]
  },
  {
   "cell_type": "code",
   "execution_count": null,
   "metadata": {
    "slideshow": {
     "slide_type": "-"
    }
   },
   "outputs": [],
   "source": [
    "# Compute the number of training errors\n",
    "df['prediction']=clf.predict(df[['X1','X2']])\n",
    "df.head()"
   ]
  },
  {
   "cell_type": "code",
   "execution_count": null,
   "metadata": {
    "slideshow": {
     "slide_type": "fragment"
    }
   },
   "outputs": [],
   "source": [
    "training_errors = (df['Y']!=df['prediction']).sum()\n",
    "training_errors"
   ]
  },
  {
   "cell_type": "code",
   "execution_count": null,
   "metadata": {
    "slideshow": {
     "slide_type": "fragment"
    }
   },
   "outputs": [],
   "source": [
    "# percent of correct classifications in the training data\n",
    "clf.score(df[['X1','X2']],df['Y'])"
   ]
  },
  {
   "cell_type": "markdown",
   "metadata": {
    "collapsed": true,
    "slideshow": {
     "slide_type": "subslide"
    }
   },
   "source": [
    "# Solution to exercise 5 - cont."
   ]
  },
  {
   "cell_type": "code",
   "execution_count": null,
   "metadata": {
    "slideshow": {
     "slide_type": "fragment"
    }
   },
   "outputs": [],
   "source": [
    "# Repeat with multiple values of C\n",
    "C_range = [0.01,0.1,1]\n",
    "fig, axes = plt.subplots(1,len(C_range), figsize=(10,4))\n",
    "\n",
    "for i in range(len(C_range)):\n",
    "    C_ = C_range[i]\n",
    "    \n",
    "    # fit SVM with polynomial kernel \n",
    "    clf = svm.SVC(kernel='poly',C=C_, degree=2)\n",
    "    clf.fit(df[['X1','X2']], df['Y'])\n",
    "\n",
    "    # plot predictions\n",
    "    l=15\n",
    "    support = [(k,j) for k in np.linspace(-l,l,31) for j in np.linspace(-l,l,31)]\n",
    "    df_bg = pd.DataFrame(data=support, columns=['X1','X2'])\n",
    "    df_bg['prediction']=clf.predict(support) \n",
    "    df_bg[df_bg['prediction']==True].plot.scatter('X1','X2',color='r', alpha=.2, s=25,ax=axes[i])\n",
    "    df_bg[df_bg['prediction']==False].plot.scatter('X1','X2',color='b',alpha=.2, s=25,ax=axes[i])\n",
    "    axes[i].set_xlim([-l,l])\n",
    "    axes[i].set_ylim([-l,l])\n",
    "\n",
    "    # plot observations\n",
    "    axes[i].scatter(df['X1'], df['X2'], c=df['Y'], cmap=plt.cm.Paired,s=60)\n",
    "    axes[i].scatter(clf.support_vectors_[:,0], clf.support_vectors_[:,1], s=120, facecolors='none')\n",
    "    training_errors = (df['Y']!=clf.predict(df[['X1','X2']])).sum()\n",
    "    axes[i].set_title('C=%.2f\\n Support vectors:%d\\n Training errors:%d'%(C_,clf.support_.shape[0],training_errors))\n",
    "    \n",
    "fig.tight_layout()"
   ]
  },
  {
   "cell_type": "markdown",
   "metadata": {
    "slideshow": {
     "slide_type": "fragment"
    }
   },
   "source": [
    "Observation: the number of training errors and support vectors tend to increase"
   ]
  },
  {
   "cell_type": "markdown",
   "metadata": {
    "slideshow": {
     "slide_type": "slide"
    }
   },
   "source": [
    "# Multiclass classification\n",
    "\n",
    "<img src=\"images/multiclass-data.png\" stylex=\"width:300px;height:300px;\" align=\"right\"/>\n",
    "* What if we have T classes?\n",
    "* Example: \n",
    "    - multiple types of diseases\n",
    "    - surgery durations: short, medium, long\n",
    "\n",
    "\n"
   ]
  },
  {
   "cell_type": "markdown",
   "metadata": {
    "slideshow": {
     "slide_type": "subslide"
    }
   },
   "source": [
    "# Multiclass classification - One-versus-one\n",
    "\n",
    "- fit classification models for each pair of classes (${T \\choose 2}$ in total)\n",
    "- classify according to the largest number of 'votes'\n",
    "    \n",
    "<img src=\"images/multiclass-one-vs-one.png\" stylex=\"width:300px;height:300px;\"/>\n",
    "\n",
    "- Classify the point (3,3)\n"
   ]
  },
  {
   "cell_type": "markdown",
   "metadata": {
    "slideshow": {
     "slide_type": "subslide"
    }
   },
   "source": [
    "\n",
    "# Multiclass classification - One-versus-all\n",
    "\n",
    "<img src=\"images/multiclass-data.png\" style=\"width:200px;height:200px;\" align=\"right\"/>\n",
    "\n",
    "- fit classification models for each of the classes ($T$ in total)\n",
    "- for each class the model returns a hyperplane $(\\beta_{i,0},\\beta_{i,1},...,\\beta_{i,p})$\n",
    "- classify based on the largest value of $\\beta_{i,0} + \\beta_{i,1}x_1 + ... + \\beta_{i,p}x_p$\n",
    "\n",
    "<img src=\"images/multiclass-one-vs-all2.png\" stylex=\"width:300px;height:300px;\"/>\n",
    " \n",
    "- Classify the point (3,3)\n"
   ]
  },
  {
   "cell_type": "markdown",
   "metadata": {
    "slideshow": {
     "slide_type": "slide"
    }
   },
   "source": [
    "# Exercise 6: multiclass classification"
   ]
  },
  {
   "cell_type": "code",
   "execution_count": null,
   "metadata": {
    "slideshow": {
     "slide_type": "fragment"
    }
   },
   "outputs": [],
   "source": [
    "# load data\n",
    "df_multiclass = pd.read_csv('data/multiclass.csv')\n",
    "df_multiclass.head()"
   ]
  },
  {
   "cell_type": "code",
   "execution_count": null,
   "metadata": {},
   "outputs": [],
   "source": [
    "df_multiclass.shape"
   ]
  },
  {
   "cell_type": "code",
   "execution_count": null,
   "metadata": {
    "slideshow": {
     "slide_type": "fragment"
    }
   },
   "outputs": [],
   "source": [
    "# visualize\n",
    "fig,ax=plt.subplots()\n",
    "df_multiclass[df_multiclass['Y']=='Red'].plot.scatter('X1','X2',color='r', s=25,ax=ax)\n",
    "df_multiclass[df_multiclass['Y']=='Blue'].plot.scatter('X1','X2',color='b', s=25,ax=ax)\n",
    "df_multiclass[df_multiclass['Y']=='Green'].plot.scatter('X1','X2',color='g', s=25,ax=ax)"
   ]
  },
  {
   "cell_type": "markdown",
   "metadata": {
    "slideshow": {
     "slide_type": "slide"
    }
   },
   "source": [
    "# Exercise 6: multiclass classification - cont."
   ]
  },
  {
   "cell_type": "code",
   "execution_count": null,
   "metadata": {
    "slideshow": {
     "slide_type": "fragment"
    }
   },
   "outputs": [],
   "source": [
    "# fit SVM with one-vs-one\n",
    "clf = svm.SVC(kernel='linear',C=1,decision_function_shape='ovo') # ovo: one versus one\n",
    "clf = clf.fit(X=df_multiclass[['X1','X2']],y=df_multiclass['Y']) "
   ]
  },
  {
   "cell_type": "code",
   "execution_count": null,
   "metadata": {
    "slideshow": {
     "slide_type": "fragment"
    }
   },
   "outputs": [],
   "source": [
    "# plot predictions\n",
    "fig,ax=plt.subplots()\n",
    "l=4\n",
    "support = [(k,j) for k in np.linspace(-l,l,31) for j in np.linspace(-l,l,31)]\n",
    "df_bg = pd.DataFrame(data=support, columns=['X1','X2'])\n",
    "df_bg['prediction']=clf.predict(support) \n",
    "df_bg[df_bg['prediction']=='Red'].plot.scatter('X1','X2',color='r', alpha=.2, s=25,ax=ax)\n",
    "df_bg[df_bg['prediction']=='Blue'].plot.scatter('X1','X2',color='b',alpha=.2, s=25,ax=ax)\n",
    "df_bg[df_bg['prediction']=='Green'].plot.scatter('X1','X2',color='g',alpha=.2, s=25,ax=ax)\n",
    "ax.set_xlim([-l,l])\n",
    "ax.set_ylim([-l,l])\n",
    "\n",
    "# plot observations\n",
    "df_multiclass[df_multiclass['Y']=='Red'].plot.scatter('X1','X2',color='r', s=25,ax=ax)\n",
    "df_multiclass[df_multiclass['Y']=='Blue'].plot.scatter('X1','X2',color='b', s=25,ax=ax)\n",
    "df_multiclass[df_multiclass['Y']=='Green'].plot.scatter('X1','X2',color='g', s=25,ax=ax)\n",
    "plt.gca().set_xlim([-l,l])\n",
    "plt.gca().set_ylim([-l,l])"
   ]
  },
  {
   "cell_type": "markdown",
   "metadata": {
    "slideshow": {
     "slide_type": "slide"
    }
   },
   "source": [
    "# Exercise 6: multiclass classification - cont."
   ]
  },
  {
   "cell_type": "code",
   "execution_count": null,
   "metadata": {
    "slideshow": {
     "slide_type": "fragment"
    }
   },
   "outputs": [],
   "source": [
    "# fit SVM with one-vs-all\n",
    "clf = svm.SVC(kernel='linear',C=1,decision_function_shape='ovr') # ovr: one versus one\n",
    "#clf = svm.SVC(kernel='linear',C=1,decision_function_shape='ovr') # ovr: one versus rest\n",
    "clf = clf.fit(X=df_multiclass[['X1','X2']],y=df_multiclass['Y']) "
   ]
  },
  {
   "cell_type": "code",
   "execution_count": null,
   "metadata": {
    "slideshow": {
     "slide_type": "fragment"
    }
   },
   "outputs": [],
   "source": [
    "# plot predictions\n",
    "fig,ax=plt.subplots()\n",
    "l=4\n",
    "support = [(k,j) for k in np.linspace(-l,l,31) for j in np.linspace(-l,l,31)]\n",
    "df_bg = pd.DataFrame(data=support, columns=['X1','X2'])\n",
    "df_bg['prediction']=clf.predict(support) \n",
    "df_bg[df_bg['prediction']=='Red'].plot.scatter('X1','X2',color='r', alpha=.2, s=25,ax=ax)\n",
    "df_bg[df_bg['prediction']=='Blue'].plot.scatter('X1','X2',color='b',alpha=.2, s=25,ax=ax)\n",
    "df_bg[df_bg['prediction']=='Green'].plot.scatter('X1','X2',color='g',alpha=.2, s=25,ax=ax)\n",
    "ax.set_xlim([-l,l])\n",
    "ax.set_ylim([-l,l])\n",
    "\n",
    "# plot observations\n",
    "df_multiclass[df_multiclass['Y']=='Red'].plot.scatter('X1','X2',color='r', s=25,ax=ax)\n",
    "df_multiclass[df_multiclass['Y']=='Blue'].plot.scatter('X1','X2',color='b', s=25,ax=ax)\n",
    "df_multiclass[df_multiclass['Y']=='Green'].plot.scatter('X1','X2',color='g', s=25,ax=ax)\n",
    "plt.gca().set_xlim([-l,l])\n",
    "plt.gca().set_ylim([-l,l])"
   ]
  },
  {
   "cell_type": "markdown",
   "metadata": {
    "slideshow": {
     "slide_type": "slide"
    }
   },
   "source": [
    "# SK-learn algorithms for SVM\n",
    "\n",
    "<img src=\"images/table5-1.png\" style=\"width:50%;height:50%;\" align=\"center\"/>\n",
    "\n",
    "* LinearSVC - gradient based method for linear kernels (very efficient, only linear kernel)\n",
    "* SGDClassifier - stochastic gradient method (very large datasets, only linear kernel)\n",
    "* SVC - solves the dual problem (relatively small datasets, many kernels)"
   ]
  },
  {
   "cell_type": "markdown",
   "metadata": {
    "slideshow": {
     "slide_type": "slide"
    }
   },
   "source": [
    "# Additional applications of SVM\n",
    "\n",
    "- Kernel methods enable predictions on objects without implicitly specifying their features"
   ]
  },
  {
   "cell_type": "markdown",
   "metadata": {
    "collapsed": true,
    "slideshow": {
     "slide_type": "slide"
    }
   },
   "source": [
    "\n",
    "# Summary - SVM\n",
    "\n",
    "* One of the most widely used algorithms\n",
    "* Extremely efficient in implementing high dimensional feature spaces \n",
    "* Versatile - can be applied to complex objects (strings, graphs)\n",
    "* Extensions\n",
    "    - Multiclass classification\n",
    "    - Estimating probabilities that an obeservation belongs to each class\n",
    "    - Support vector regression - prediction of continuous values \n"
   ]
  }
 ],
 "metadata": {
  "anaconda-cloud": {},
  "celltoolbar": "Slideshow",
  "kernelspec": {
   "display_name": "Python 3 (ipykernel)",
   "language": "python",
   "name": "python3"
  },
  "language_info": {
   "codemirror_mode": {
    "name": "ipython",
    "version": 3
   },
   "file_extension": ".py",
   "mimetype": "text/x-python",
   "name": "python",
   "nbconvert_exporter": "python",
   "pygments_lexer": "ipython3",
   "version": "3.9.10"
  }
 },
 "nbformat": 4,
 "nbformat_minor": 1
}
