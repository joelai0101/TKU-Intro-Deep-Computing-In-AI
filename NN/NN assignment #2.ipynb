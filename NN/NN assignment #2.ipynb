{
 "cells": [
  {
   "cell_type": "code",
   "execution_count": 1,
   "id": "b29bedaf",
   "metadata": {},
   "outputs": [],
   "source": [
    "# import Python Libraries\n",
    "import numpy as np\n",
    "import math \n",
    "import random\n",
    "from matplotlib import pyplot as plt"
   ]
  },
  {
   "cell_type": "code",
   "execution_count": 2,
   "id": "6ecc87e3",
   "metadata": {},
   "outputs": [],
   "source": [
    "classes = np.array([[1, 0, 0, 0], [0, 1, 0, 0],  [0, 0, 1, 0], [0, 0, 0, 1]])\n",
    "\n",
    "for i in range(4000):\n",
    "    x = np.array([[np.random.uniform(-1000.0, 1000.0)]])\n",
    "    y = np.array([[np.random.uniform(-1000.0, 1000.0)]])\n",
    "    if x > 0 and y > 0:\n",
    "        sample_class = classes[0]\n",
    "    elif x < 0 and y > 0:\n",
    "        sample_class = classes[1]\n",
    "    elif x < 0 and y < 0:\n",
    "        sample_class = classes[2]\n",
    "    elif x > 0 and y < 0:\n",
    "        sample_class = classes[3]\n",
    "        \n",
    "    coor = np.concatenate([x, y])\n",
    "    \n",
    "    new_sample = np.array([[coor, sample_class]], dtype=object)\n",
    "    if i == 0:\n",
    "        training_sample = np.concatenate([new_sample])\n",
    "    else:\n",
    "        training_sample = np.concatenate((training_sample, new_sample))"
   ]
  },
  {
   "cell_type": "code",
   "execution_count": 3,
   "id": "baef56b1",
   "metadata": {},
   "outputs": [],
   "source": [
    "for i in range(1000):\n",
    "    x = np.array([[np.random.uniform(-1000.0, 1000.0)]])\n",
    "    y = np.array([[np.random.uniform(-1000.0, 1000.0)]])\n",
    "    if x > 0 and y > 0:\n",
    "        sample_class = classes[0]\n",
    "    elif x < 0 and y > 0:\n",
    "        sample_class = classes[1]\n",
    "    elif x < 0 and y < 0:\n",
    "        sample_class = classes[2]\n",
    "    elif x > 0 and y < 0:\n",
    "        sample_class = classes[3]\n",
    "        \n",
    "    coor = np.concatenate([x, y])\n",
    "    \n",
    "    new_sample = np.array([[coor, sample_class]], dtype=object)\n",
    "    if i == 0:\n",
    "        testing_sample = np.concatenate([new_sample])\n",
    "    else:\n",
    "        testing_sample = np.concatenate((testing_sample, new_sample))"
   ]
  },
  {
   "cell_type": "code",
   "execution_count": 4,
   "id": "02a032e2",
   "metadata": {},
   "outputs": [
    {
     "name": "stdout",
     "output_type": "stream",
     "text": [
      "[[-322.80921385 -964.30004777]\n",
      " [-955.74007119 -202.9129595 ]\n",
      " [ 275.82164396  493.03191336]\n",
      " ...\n",
      " [ 698.29538419  676.63184191]\n",
      " [-978.64358748  309.71339591]\n",
      " [ 240.18239768 -707.35810357]]\n",
      "[[0 0 1 0]\n",
      " [0 0 1 0]\n",
      " [1 0 0 0]\n",
      " ...\n",
      " [1 0 0 0]\n",
      " [0 1 0 0]\n",
      " [0 0 0 1]]\n"
     ]
    }
   ],
   "source": [
    "train_data2 = []\n",
    "for i in range(len(training_sample)):\n",
    "    new_array = training_sample[i][0].reshape(2)\n",
    "    if i == 0:\n",
    "        train_data2 = np.stack([new_array])\n",
    "    else:    \n",
    "        train_data2 = np.vstack([train_data2, new_array])\n",
    "\n",
    "train_target_class = np.array([x[1] for x in training_sample])\n",
    "\n",
    "print(train_data2)\n",
    "print(train_target_class)"
   ]
  },
  {
   "cell_type": "code",
   "execution_count": 5,
   "id": "90cf522d",
   "metadata": {},
   "outputs": [
    {
     "name": "stdout",
     "output_type": "stream",
     "text": [
      "[[ 893.07432902  317.88630642]\n",
      " [ 549.23843096  291.53105604]\n",
      " [ 713.32726615 -663.01853439]\n",
      " ...\n",
      " [-151.2524874   -90.31331834]\n",
      " [-420.39065619  478.64942638]\n",
      " [-165.56804801  639.60656395]]\n",
      "[[1 0 0 0]\n",
      " [1 0 0 0]\n",
      " [0 0 0 1]\n",
      " ...\n",
      " [0 0 1 0]\n",
      " [0 1 0 0]\n",
      " [0 1 0 0]]\n"
     ]
    }
   ],
   "source": [
    "test_data2 = []\n",
    "for i in range(len(testing_sample)):\n",
    "    new_array = testing_sample[i][0].reshape(2)\n",
    "    if i == 0:\n",
    "        test_data2 = np.stack([new_array])\n",
    "    else:    \n",
    "        test_data2 = np.vstack([test_data2, new_array])\n",
    "\n",
    "test_target_class = np.array([x[1] for x in testing_sample])\n",
    "\n",
    "print(test_data2)\n",
    "print(test_target_class)"
   ]
  },
  {
   "cell_type": "code",
   "execution_count": 6,
   "id": "54602d20",
   "metadata": {},
   "outputs": [],
   "source": [
    "import pandas as pd\n",
    "\n",
    "class Diagram(object):\n",
    "    def __init__(self , classifier):\n",
    "        self.classifier = classifier\n",
    "    def draw(self , xlabel = '' , ylabel = '' , legend_loc = '' , title = ''):\n",
    "        self.training_progress_diagram()\n",
    "        plt.xlabel(xlabel)\n",
    "        plt.ylabel(ylabel)\n",
    "        plt.title(title)\n",
    "        plt.legend(loc=legend_loc)\n",
    "        plt.show()\n",
    "    def training_progress_diagram(self):\n",
    "        cost = self.classifier.cost\n",
    "        plt.plot(range(1 , len(cost) + 1) , cost , 'b-')"
   ]
  },
  {
   "cell_type": "code",
   "execution_count": 7,
   "id": "9debc816",
   "metadata": {},
   "outputs": [],
   "source": [
    "class BPNN(object):\n",
    "    def __init__(self, train_data, target, lr, n_iter):\n",
    "        self.train_data = train_data\n",
    "        self.target = target\n",
    "        self.lr = lr\n",
    "        self.n_iter = n_iter\n",
    "        self.setup()\n",
    "        self.cost = []\n",
    "        self.diagram = Diagram(self)\n",
    "    def setup(self):\n",
    "        self.set_nn_architecture()\n",
    "        self.set_weight()\n",
    "    \n",
    "    # step1\n",
    "    def set_nn_architecture(self):\n",
    "        # ex: 2, 3, 4\n",
    "        self.input_node = self.train_data.shape[1] # 2\n",
    "        self.output_node = self.target.shape[1] # 4\n",
    "        self.hidden_node = int(math.ceil((self.input_node + self.output_node) / self.input_node)) # 3\n",
    "\n",
    "        # bias\n",
    "        self.hidden_bias = np.random.uniform(self.hidden_node) \n",
    "        self.output_bias = np.random.uniform(self.output_node)\n",
    "    \n",
    "    # step2\n",
    "    def set_weight(self):\n",
    "        self.w1 = np.random.uniform(-1, 1, size=(self.input_node , self.hidden_node))\n",
    "        self.w2 = np.random.uniform(-1, 1, size=(self.hidden_node , self.output_node))\n",
    "    \n",
    "    # step3\n",
    "    def predict(self , x , Y):\n",
    "        # compute hidden layer\n",
    "        self.h = self.sigmoid((np.dot(x , self.w1) + self.hidden_bias))\n",
    "        # Hidden_layer_output <- w1·x + hidden_bias\n",
    "        # compute output layer\n",
    "        self.y = self.sigmoid((np.dot(self.h , self.w2) + self.output_bias)) \n",
    "        # Output_layer_output <- w2·x + output_bias\n",
    "        \n",
    "        # compute accuracy\n",
    "        zy = np.where(self.y > 0.5 , 1 , 0)\n",
    "        p_y = Y - zy\n",
    "        self.acc = 0\n",
    "        for i in p_y:\n",
    "            if (i.sum() == 0):\n",
    "                self.acc += 1\n",
    "        self.acc = self.acc / Y.shape[0] * 100.0\n",
    "        return zy\n",
    "    \n",
    "    # step4\n",
    "    def Backpropagation(self):\n",
    "        \n",
    "        # compute MSE\n",
    "        E = (self.target - self.y)\n",
    "        errors = np.sum(np.square(E)) / (2)\n",
    "        # MSE = (1/n) * ∑(y - y_hat)^2, n 對輸入輸出資料\n",
    "        # self.target.shape[0] = 4\n",
    "        \n",
    "        # compute delta for output layer\n",
    "        delta_y = self.y * (1 - self.y) * E\n",
    "        # Y is Output_layer_output\n",
    "        # delta_y = Y * (1-Y) * (Target - Y)\n",
    "        \n",
    "        # compute delta for hidden layer\n",
    "        delta_h = self.h * (1 - self.h) * np.dot(delta_y , self.w2.T)\n",
    "        # H is Hidden_layer_output\n",
    "        # delta_h = H * (1-H) * (w2·delta_y)\n",
    "        \n",
    "        # adjust parameters\n",
    "        self.w2 += self.lr * self.h.T.dot(delta_y)\n",
    "        self.w1 += self.lr * self.train_data.T.dot(delta_h)\n",
    "        self.y_b = self.lr * delta_y.sum()\n",
    "        self.h_b = self.lr * delta_h.sum()\n",
    "        return errors\n",
    "    \n",
    "    def train(self):\n",
    "        self.error = 0\n",
    "        for _iter in range(0 , self.n_iter):\n",
    "            # forward\n",
    "            self.predict(self.train_data , self.target)\n",
    "            # backward\n",
    "            self.error = self.Backpropagation()\n",
    "            \n",
    "            # Appending cost\n",
    "            self.cost.append(self.error)\n",
    "            if (_iter % 1000 == 0 and _iter != 0):\n",
    "                print(\"epochs: \" + str(_iter) + \" Accuracy：%.2f\" % self.acc)\n",
    "                \n",
    "            if (self.acc >= 98):\n",
    "                return self\n",
    "        return self\n",
    "    \n",
    "    def test(self, test_data, target):\n",
    "        prediction = self.predict(test_data , target)\n",
    "        print(\"Test set is :\")\n",
    "        print(test_data[:])\n",
    "        print(\"\\nPredicted values for Test set are\")\n",
    "        print(np.round(prediction))\n",
    "        print(\"\\n And actual y values for test set are\")\n",
    "        print(target)\n",
    "        print(\"Accuracy = %r %%\" %(self.acc))\n",
    "        \n",
    "        return self\n",
    "    \n",
    "    def sigmoid(self, x):\n",
    "        return 1 / (1 + np.exp(-x))\n",
    "    def draw(self , xlabel = '' , ylabel = '' , legend_loc = '' , title = ''):\n",
    "        self.diagram.draw(xlabel , ylabel , legend_loc , title )"
   ]
  },
  {
   "cell_type": "code",
   "execution_count": 9,
   "id": "9054e856",
   "metadata": {},
   "outputs": [
    {
     "name": "stderr",
     "output_type": "stream",
     "text": [
      "D:\\Anaconda\\Anaconda3\\envs\\ProjectTKU\\lib\\site-packages\\ipykernel_launcher.py:105: RuntimeWarning: overflow encountered in exp\n",
      "No handles with labels found to put in legend.\n"
     ]
    },
    {
     "name": "stdout",
     "output_type": "stream",
     "text": [
      "Accuracy = 99.02499999999999 % , iteration = 16 , MSE =  345.465\n"
     ]
    },
    {
     "data": {
      "image/png": "[encoded data removed]",
      "text/plain": [
       "<Figure size 640x480 with 1 Axes>"
      ]
     },
     "metadata": {},
     "output_type": "display_data"
    },
    {
     "name": "stdout",
     "output_type": "stream",
     "text": [
      "Test set is :\n",
      "[[ 893.07432902  317.88630642]\n",
      " [ 549.23843096  291.53105604]\n",
      " [ 713.32726615 -663.01853439]\n",
      " ...\n",
      " [-151.2524874   -90.31331834]\n",
      " [-420.39065619  478.64942638]\n",
      " [-165.56804801  639.60656395]]\n",
      "\n",
      "Predicted values for Test set are\n",
      "[[1 0 0 0]\n",
      " [1 0 0 0]\n",
      " [0 0 0 1]\n",
      " ...\n",
      " [0 0 1 0]\n",
      " [0 1 0 0]\n",
      " [0 1 0 0]]\n",
      "\n",
      " And actual y values for test set are\n",
      "[[1 0 0 0]\n",
      " [1 0 0 0]\n",
      " [0 0 0 1]\n",
      " ...\n",
      " [0 0 1 0]\n",
      " [0 1 0 0]\n",
      " [0 1 0 0]]\n",
      "Accuracy = 98.5 %\n"
     ]
    },
    {
     "data": {
      "text/plain": [
       "<__main__.BPNN at 0x22e6ac6ea88>"
      ]
     },
     "execution_count": 9,
     "metadata": {},
     "output_type": "execute_result"
    }
   ],
   "source": [
    "bpn = BPNN(train_data2,  train_target_class, lr = 0.01, n_iter = 10000)\n",
    "bpn.train()\n",
    "print(\"Accuracy = %r %% , iteration = %r , MSE =  %.3f\" %(bpn.acc , len(bpn.cost) , bpn.error))\n",
    "bpn.draw( title = 'learning_rate = %r , MSE = %.3f , Accuracy = %.f %%' % (bpn.lr , bpn.error , bpn.acc),\n",
    "        xlabel = 'iterator numbers' ,\n",
    "        ylabel = 'MSE',\n",
    "        legend_loc = 'upper left')\n",
    "\n",
    "bpn.test(test_data2, test_target_class)"
   ]
  },
  {
   "cell_type": "code",
   "execution_count": null,
   "id": "810c860b",
   "metadata": {},
   "outputs": [],
   "source": []
  },
  {
   "cell_type": "code",
   "execution_count": null,
   "id": "51d8a0b8",
   "metadata": {},
   "outputs": [],
   "source": []
  }
 ],
 "metadata": {
  "kernelspec": {
   "display_name": "Python 3",
   "language": "python",
   "name": "python3"
  },
  "language_info": {
   "codemirror_mode": {
    "name": "ipython",
    "version": 3
   },
   "file_extension": ".py",
   "mimetype": "text/x-python",
   "name": "python",
   "nbconvert_exporter": "python",
   "pygments_lexer": "ipython3",
   "version": "3.7.11"
  }
 },
 "nbformat": 4,
 "nbformat_minor": 5
}
