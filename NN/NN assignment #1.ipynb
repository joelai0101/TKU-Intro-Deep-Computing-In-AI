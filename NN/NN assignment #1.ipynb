{
 "cells": [
  {
   "cell_type": "code",
   "execution_count": 1,
   "id": "78040bc7",
   "metadata": {},
   "outputs": [],
   "source": [
    "# import Python Libraries\n",
    "import numpy as np\n",
    "import math \n",
    "import random\n",
    "from matplotlib import pyplot as plt"
   ]
  },
  {
   "cell_type": "code",
   "execution_count": 2,
   "id": "4aa9645c",
   "metadata": {},
   "outputs": [],
   "source": [
    "sample = np.array([[0, 0, 0],\n",
    "                   [0, 1, 1],\n",
    "                   [1, 0, 1],\n",
    "                   [1, 1, 0]])\n",
    "\n",
    "train_data = np.array([[x[0], x[1]] for x in sample])\n",
    "target_xor = np.array([[x[2]] for x in sample])"
   ]
  },
  {
   "cell_type": "code",
   "execution_count": 3,
   "id": "6b477800",
   "metadata": {},
   "outputs": [
    {
     "name": "stdout",
     "output_type": "stream",
     "text": [
      "[[0 0]\n",
      " [0 1]\n",
      " [1 0]\n",
      " [1 1]]\n",
      "[[0]\n",
      " [1]\n",
      " [1]\n",
      " [0]]\n",
      "2\n",
      "1\n",
      "4\n",
      "2\n"
     ]
    }
   ],
   "source": [
    "print(train_data)\n",
    "print(target_xor)\n",
    "print(train_data.shape[1])\n",
    "print(target_xor.shape[1])\n",
    "print(target_xor.shape[0])\n",
    "print(math.ceil((train_data.shape[1]+target_xor.shape[1])/2))"
   ]
  },
  {
   "cell_type": "code",
   "execution_count": 4,
   "id": "b3615ebc",
   "metadata": {},
   "outputs": [
    {
     "name": "stdout",
     "output_type": "stream",
     "text": [
      "(4, 2)\n"
     ]
    },
    {
     "data": {
      "text/plain": [
       "(4, 2)"
      ]
     },
     "execution_count": 4,
     "metadata": {},
     "output_type": "execute_result"
    }
   ],
   "source": [
    "print(train_data.shape)\n",
    "np.dot(train_data , np.random.uniform(-1, 1, size=(2 , 2))).shape"
   ]
  },
  {
   "cell_type": "code",
   "execution_count": 5,
   "id": "5ed6fd26",
   "metadata": {},
   "outputs": [],
   "source": [
    "import pandas as pd\n",
    "\n",
    "class Diagram(object):\n",
    "    def __init__(self , classifier):\n",
    "        self.classifier = classifier\n",
    "    def draw(self , xlabel = '' , ylabel = '' , legend_loc = '' , title = ''):\n",
    "        self.training_progress_diagram()\n",
    "        plt.xlabel(xlabel)\n",
    "        plt.ylabel(ylabel)\n",
    "        plt.title(title)\n",
    "        plt.legend(loc=legend_loc)\n",
    "        plt.show()\n",
    "    def training_progress_diagram(self):\n",
    "        cost = self.classifier.cost\n",
    "        plt.plot(range(1 , len(cost) + 1) , cost , 'b-')"
   ]
  },
  {
   "cell_type": "code",
   "execution_count": 14,
   "id": "ec9ae499",
   "metadata": {},
   "outputs": [],
   "source": [
    "class BPNN(object):\n",
    "    def __init__(self, train_data, target, lr, n_iter):\n",
    "        self.train_data = train_data\n",
    "        self.target = target\n",
    "        self.lr = lr\n",
    "        self.n_iter = n_iter\n",
    "        self.setup()\n",
    "        self.cost = []\n",
    "        self.diagram = Diagram(self)\n",
    "    def setup(self):\n",
    "        self.set_nn_architecture()\n",
    "        self.set_weight()\n",
    "    \n",
    "    # step1\n",
    "    def set_nn_architecture(self):\n",
    "        # ex: 2, 2, 1\n",
    "        self.input_node = self.train_data.shape[1] # 2\n",
    "        self.output_node = self.target.shape[1] # 1\n",
    "        self.hidden_node = int(math.ceil((self.input_node + self.output_node) / self.input_node)) # 2\n",
    "\n",
    "        # bias\n",
    "        self.hidden_bias = np.random.uniform(size=self.hidden_node) # 2\n",
    "        self.output_bias = np.random.uniform(size=self.output_node) # 1\n",
    "    \n",
    "    # step2\n",
    "    def set_weight(self):\n",
    "        self.w1 = np.random.uniform(-1, 1, size=(self.input_node , self.hidden_node)) # 2, 2\n",
    "        self.w2 = np.random.uniform(-1, 1, size=(self.hidden_node , self.output_node)) # 2, 1\n",
    "    \n",
    "    # step3\n",
    "    def predict(self , x , Y):\n",
    "        # compute hidden layer\n",
    "        self.h = self.sigmoid((np.dot(x , self.w1) + self.hidden_bias))\n",
    "        # Hidden_layer_output <- w1·x + hidden_bias\n",
    "        # compute output layer\n",
    "        self.y = self.sigmoid((np.dot(self.h , self.w2) + self.output_bias)) \n",
    "        # Output_layer_output <- w2·x + output_bias\n",
    "        \n",
    "        # compute accuracy\n",
    "        zy = np.where(self.y > 0.5 , 1 , 0)\n",
    "        p_y = Y - zy\n",
    "        self.acc = 0\n",
    "        for i in p_y:\n",
    "            if (i.sum() == 0):\n",
    "                self.acc += 1\n",
    "        self.acc = self.acc / Y.shape[0] * 100.0\n",
    "        return zy\n",
    "    \n",
    "    # step4\n",
    "    def Backpropagation(self):\n",
    "        \n",
    "        # compute MSE\n",
    "        E = (self.target - self.y)\n",
    "        errors = np.sum(np.square(E)) / (2)\n",
    "        # MSE = (1/2) * ∑(y - y_hat)^2, n 對輸入輸出資料\n",
    "        # self.target.shape[0] = 4\n",
    "        \n",
    "        # compute delta for output layer\n",
    "        delta_y = self.y * (1 - self.y) * E\n",
    "        # Y is Output_layer_output\n",
    "        # delta_y = Y * (1-Y) * (Target - Y)\n",
    "        \n",
    "        # compute delta for hidden layer\n",
    "        delta_h = self.h * (1 - self.h) * np.dot(delta_y , self.w2.T)\n",
    "        # H is Hidden_layer_output\n",
    "        # delta_h = H * (1-H) * (w2·delta_y)\n",
    "        \n",
    "        # adjust parameters\n",
    "        self.w2 += self.lr * self.h.T.dot(delta_y)\n",
    "        self.w1 += self.lr * self.train_data.T.dot(delta_h)\n",
    "        self.y_b = self.lr * delta_y.sum()\n",
    "        self.h_b = self.lr * delta_h.sum()\n",
    "        return errors\n",
    "    \n",
    "    def train(self):\n",
    "        self.error = 0\n",
    "        for _iter in range(0 , self.n_iter):\n",
    "            # forward\n",
    "            self.predict(self.train_data , self.target)\n",
    "            # backward\n",
    "            self.error = self.Backpropagation()\n",
    "            \n",
    "            # Appending cost\n",
    "            self.cost.append(self.error)\n",
    "            if (_iter % 1000 == 0 and _iter != 0):\n",
    "                print(\"epochs: \" + str(_iter) + \" Accuracy：%.2f\" % self.acc)\n",
    "                \n",
    "            if (self.acc >= 98):\n",
    "                return self\n",
    "        return self\n",
    "    \n",
    "    def test(self, test_data, target):\n",
    "        prediction = self.predict(test_data , target)\n",
    "        print(\"Test set is :\")\n",
    "        print(test_data[:])\n",
    "        print(\"\\nPredicted values for Test set are\")\n",
    "        print(np.round(prediction))\n",
    "        print(\"\\n And actual y values for test set are\")\n",
    "        print(target)\n",
    "        print(\"Accuracy = %r %%\" %(bpn.acc))\n",
    "        return self\n",
    "    \n",
    "    def sigmoid(self, x):\n",
    "        return 1 / (1 + np.exp(-x))\n",
    "    def draw(self , xlabel = '' , ylabel = '' , legend_loc = '' , title = ''):\n",
    "        self.diagram.draw(xlabel , ylabel , legend_loc , title )"
   ]
  },
  {
   "cell_type": "code",
   "execution_count": 23,
   "id": "8b9f48e1",
   "metadata": {},
   "outputs": [
    {
     "name": "stderr",
     "output_type": "stream",
     "text": [
      "No handles with labels found to put in legend.\n"
     ]
    },
    {
     "name": "stdout",
     "output_type": "stream",
     "text": [
      "Accuracy = 100.0 % , iteration = 878 , MSE =  0.245\n"
     ]
    },
    {
     "data": {
      "image/png": "[encoded data removed]",
      "text/plain": [
       "<Figure size 640x480 with 1 Axes>"
      ]
     },
     "metadata": {},
     "output_type": "display_data"
    },
    {
     "name": "stdout",
     "output_type": "stream",
     "text": [
      "Test set is :\n",
      "[[0 0]\n",
      " [0 1]\n",
      " [1 0]\n",
      " [1 1]]\n",
      "\n",
      "Predicted values for Test set are\n",
      "[[0]\n",
      " [1]\n",
      " [1]\n",
      " [0]]\n",
      "\n",
      " And actual y values for test set are\n",
      "[[0]\n",
      " [1]\n",
      " [1]\n",
      " [0]]\n",
      "Accuracy = 100.0 %\n"
     ]
    },
    {
     "data": {
      "text/plain": [
       "<__main__.BPNN at 0x1dd04507248>"
      ]
     },
     "execution_count": 23,
     "metadata": {},
     "output_type": "execute_result"
    }
   ],
   "source": [
    "bpn = BPNN(train_data,  target_xor, lr = 1, n_iter = 10000)\n",
    "bpn.train()\n",
    "print(\"Accuracy = %r %% , iteration = %r , MSE =  %.3f\" %(bpn.acc , len(bpn.cost) , bpn.error))\n",
    "bpn.draw( title = 'learning_rate = %r , MSE = %.3f , Accuracy = %.f %%' % (bpn.lr , bpn.error , bpn.acc),\n",
    "        xlabel = 'iterator numbers' ,\n",
    "        ylabel = 'MSE',\n",
    "        legend_loc = 'upper left')\n",
    "bpn.test(train_data, target_xor)\n"
   ]
  },
  {
   "cell_type": "code",
   "execution_count": 8,
   "id": "e9d64f23",
   "metadata": {},
   "outputs": [
    {
     "name": "stdout",
     "output_type": "stream",
     "text": [
      "[array([[-640.91588855],\n",
      "        [ 988.37089658]]) array([1, 0, 0, 0])]\n",
      "[array([[-640.91588855],\n",
      "        [ 988.37089658]]) array([1, 0, 0, 0])]\n",
      "[[array([[-640.91588855],\n",
      "         [ 988.37089658]]) array([1, 0, 0, 0])]\n",
      " [array([[-640.91588855],\n",
      "         [ 988.37089658]]) array([1, 0, 0, 0])]]\n",
      "[1 0 0 0]\n",
      "[[array([[-640.91588855],\n",
      "         [ 988.37089658]]) array([1, 0, 0, 0])]]\n",
      "[[array([[-640.91588855],\n",
      "         [ 988.37089658]]) array([1, 0, 0, 0])]\n",
      " [array([[-640.91588855],\n",
      "         [ 988.37089658]]) array([1, 0, 0, 0])]]\n",
      "[[array([[-640.91588855],\n",
      "         [ 988.37089658]]) array([1, 0, 0, 0])]\n",
      " [array([[-640.91588855],\n",
      "         [ 988.37089658]]) array([1, 0, 0, 0])]\n",
      " [array([[-640.91588855],\n",
      "         [ 988.37089658]]) array([1, 0, 0, 0])]]\n"
     ]
    }
   ],
   "source": [
    "classes = np.array([[1, 0, 0, 0], [0, 1, 0, 0],  [0, 0, 1, 0], [0, 0, 0, 1]])\n",
    "x = np.array([[np.random.uniform(-1000.0, 1000.0)]]) \n",
    "y = np.array([[np.random.uniform(-1000.0, 1000.0)]])\n",
    "\n",
    "coor = np.concatenate([x, y])\n",
    "\n",
    "the_sample = np.array([[coor, np.array([1, 0, 0, 0])]], dtype=object)\n",
    "\n",
    "print(the_sample[0])\n",
    "\n",
    "the_sample2 = np.concatenate((the_sample, the_sample))\n",
    "\n",
    "print(the_sample2[0])\n",
    "print(the_sample2)\n",
    "\n",
    "print(classes[0])\n",
    "\n",
    "the_sample3 = np.array([[coor, classes[0]]], dtype=object)\n",
    "print(the_sample3)\n",
    "\n",
    "the_sample4 = np.concatenate((the_sample3, the_sample3))\n",
    "print(the_sample4)\n",
    "\n",
    "the_sample4 = np.concatenate((the_sample4, the_sample3))\n",
    "print(the_sample4)"
   ]
  },
  {
   "cell_type": "code",
   "execution_count": null,
   "id": "fbd484ac",
   "metadata": {},
   "outputs": [],
   "source": []
  }
 ],
 "metadata": {
  "kernelspec": {
   "display_name": "Python 3",
   "language": "python",
   "name": "python3"
  },
  "language_info": {
   "codemirror_mode": {
    "name": "ipython",
    "version": 3
   },
   "file_extension": ".py",
   "mimetype": "text/x-python",
   "name": "python",
   "nbconvert_exporter": "python",
   "pygments_lexer": "ipython3",
   "version": "3.7.11"
  }
 },
 "nbformat": 4,
 "nbformat_minor": 5
}
