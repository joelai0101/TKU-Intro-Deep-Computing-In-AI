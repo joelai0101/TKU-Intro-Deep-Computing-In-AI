{
 "cells": [
  {
   "cell_type": "code",
   "execution_count": null,
   "id": "04199805",
   "metadata": {},
   "outputs": [],
   "source": [
    "# import Python Libraries\n",
    "import numpy as np\n",
    "import sys\n",
    "from matplotlib import pyplot as plt"
   ]
  },
  {
   "cell_type": "code",
   "execution_count": null,
   "id": "442c3bee",
   "metadata": {},
   "outputs": [],
   "source": [
    "class NeuralNetMLP(object):\n",
    "    def __init__(self, layers, activation='sigmoid', epochs=100000, eta=0.001, random_state=1):\n",
    "        self.layers = layers\n",
    "        self.epochs = epochs\n",
    "        self.eta = eta\n",
    "        self.random_state = random_state\n",
    "\n",
    "    def initializeParameters(inputFeatures, neuronsInHiddenLayers, outputFeatures):\n",
    "        W1 = np.random.randn(neuronsInHiddenLayers, inputFeatures)\n",
    "        W2 = np.random.randn(outputFeatures, neuronsInHiddenLayers)\n",
    "        b1 = np.zeros((neuronsInHiddenLayers, 1))\n",
    "        b2 = np.zeros((outputFeatures, 1))\n",
    "    \n",
    "    def fit(self, X, y):\n",
    "        \n",
    "        n_output = np.unique(y_train).shape[0]  # number of class labels\n",
    "        n_features = X_train.shape[1]\n",
    "\n",
    "        ########################\n",
    "        # Weight initialization\n",
    "        ########################\n",
    "\n",
    "        # weights for input -> hidden\n",
    "        self.b_h = np.zeros(self.n_hidden)\n",
    "        self.w_h = self.random.normal(loc=0.0, scale=0.1,\n",
    "                                      size=(n_features, self.n_hidden))"
   ]
  }
 ],
 "metadata": {
  "kernelspec": {
   "display_name": "Python 3",
   "language": "python",
   "name": "python3"
  },
  "language_info": {
   "codemirror_mode": {
    "name": "ipython",
    "version": 3
   },
   "file_extension": ".py",
   "mimetype": "text/x-python",
   "name": "python",
   "nbconvert_exporter": "python",
   "pygments_lexer": "ipython3",
   "version": "3.7.11"
  }
 },
 "nbformat": 4,
 "nbformat_minor": 5
}
